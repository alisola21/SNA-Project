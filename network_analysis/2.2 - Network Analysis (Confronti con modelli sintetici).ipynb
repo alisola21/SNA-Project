{
 "cells": [
  {
   "cell_type": "markdown",
   "id": "e940e4cb",
   "metadata": {},
   "source": [
    "# 2.3 NETWORK ANALYSIS - Confronti con *modelli sintetici* \n",
    "\n",
    "In questa sezione si creano, oltre alla rete reale, altre quattrp reti sintetiche (**modelli sintetici**) con le stesse caratteristiche (n nodi e n edges della rete reale) in modo tale da poter fare confronti, riguardo alle seguenti caratteristiche:\n",
    "1. [Informazioni di base](#info)\n",
    "2. [Componenti connesse](#comps)\n",
    "3. [Degree Distribution](#dd)\n",
    "4. [Analisi dei path](#path)\n",
    "5. [Analisi degli hubs](#hubs)\n",
    "6. [Clustering Coefficient, densità](#cc)\n",
    "7. [Centralità](#centralita)"
   ]
  },
  {
   "cell_type": "code",
   "execution_count": 1,
   "id": "5b0f487b",
   "metadata": {},
   "outputs": [],
   "source": [
    "import os\n",
    "import pandas as pd\n",
    "import numpy as np\n",
    "import matplotlib.pyplot as plt\n",
    "import networkx as nx\n",
    "import warnings\n",
    "import powerlaw\n",
    "import seaborn as sns\n",
    "import matplotlib.colors as mcolors\n",
    "import pickle\n",
    "\n",
    "from operator import itemgetter\n",
    "from collections import Counter\n",
    "warnings.filterwarnings('ignore')\n",
    "\n",
    "%matplotlib inline "
   ]
  },
  {
   "cell_type": "markdown",
   "id": "0504cc79",
   "metadata": {},
   "source": [
    "### **Rete Reale**"
   ]
  },
  {
   "cell_type": "code",
   "execution_count": 2,
   "id": "81de0adf",
   "metadata": {},
   "outputs": [
    {
     "data": {
      "text/html": [
       "<div>\n",
       "<style scoped>\n",
       "    .dataframe tbody tr th:only-of-type {\n",
       "        vertical-align: middle;\n",
       "    }\n",
       "\n",
       "    .dataframe tbody tr th {\n",
       "        vertical-align: top;\n",
       "    }\n",
       "\n",
       "    .dataframe thead th {\n",
       "        text-align: right;\n",
       "    }\n",
       "</style>\n",
       "<table border=\"1\" class=\"dataframe\">\n",
       "  <thead>\n",
       "    <tr style=\"text-align: right;\">\n",
       "      <th></th>\n",
       "      <th>source</th>\n",
       "      <th>id_source</th>\n",
       "      <th>target</th>\n",
       "      <th>id_target</th>\n",
       "      <th>weights</th>\n",
       "    </tr>\n",
       "  </thead>\n",
       "  <tbody>\n",
       "    <tr>\n",
       "      <th>0</th>\n",
       "      <td>jwl2nd</td>\n",
       "      <td>4563241355</td>\n",
       "      <td>chanleycourttv</td>\n",
       "      <td>4730732546</td>\n",
       "      <td>1.000000</td>\n",
       "    </tr>\n",
       "    <tr>\n",
       "      <th>1</th>\n",
       "      <td>simplyslj</td>\n",
       "      <td>1518917881119059968</td>\n",
       "      <td>theemilydbaker</td>\n",
       "      <td>22594853</td>\n",
       "      <td>0.952055</td>\n",
       "    </tr>\n",
       "    <tr>\n",
       "      <th>2</th>\n",
       "      <td>jwl2nd</td>\n",
       "      <td>4563241355</td>\n",
       "      <td>courttv</td>\n",
       "      <td>1031946753510203392</td>\n",
       "      <td>0.924658</td>\n",
       "    </tr>\n",
       "    <tr>\n",
       "      <th>3</th>\n",
       "      <td>simplyslj</td>\n",
       "      <td>1518917881119059968</td>\n",
       "      <td>legalbytesmedia</td>\n",
       "      <td>1262475778631106560</td>\n",
       "      <td>0.914384</td>\n",
       "    </tr>\n",
       "    <tr>\n",
       "      <th>4</th>\n",
       "      <td>adrferg</td>\n",
       "      <td>1074757149748854792</td>\n",
       "      <td>courttv</td>\n",
       "      <td>1031946753510203392</td>\n",
       "      <td>0.633562</td>\n",
       "    </tr>\n",
       "    <tr>\n",
       "      <th>...</th>\n",
       "      <td>...</td>\n",
       "      <td>...</td>\n",
       "      <td>...</td>\n",
       "      <td>...</td>\n",
       "      <td>...</td>\n",
       "    </tr>\n",
       "    <tr>\n",
       "      <th>21708</th>\n",
       "      <td>intheone9</td>\n",
       "      <td>208950166</td>\n",
       "      <td>ThatUmbrella</td>\n",
       "      <td>901030183213445125</td>\n",
       "      <td>0.000000</td>\n",
       "    </tr>\n",
       "    <tr>\n",
       "      <th>21709</th>\n",
       "      <td>intheone9</td>\n",
       "      <td>208950166</td>\n",
       "      <td>dailymailuk</td>\n",
       "      <td>111556423</td>\n",
       "      <td>0.000000</td>\n",
       "    </tr>\n",
       "    <tr>\n",
       "      <th>21710</th>\n",
       "      <td>intheone9</td>\n",
       "      <td>208950166</td>\n",
       "      <td>elainebhoft</td>\n",
       "      <td>1380604861486665730</td>\n",
       "      <td>0.000000</td>\n",
       "    </tr>\n",
       "    <tr>\n",
       "      <th>21711</th>\n",
       "      <td>intheone9</td>\n",
       "      <td>208950166</td>\n",
       "      <td>girlsreallyrule</td>\n",
       "      <td>580312540</td>\n",
       "      <td>0.000000</td>\n",
       "    </tr>\n",
       "    <tr>\n",
       "      <th>21712</th>\n",
       "      <td>zzziiinnnggg</td>\n",
       "      <td>54606627</td>\n",
       "      <td>winonasrider</td>\n",
       "      <td>1088984209</td>\n",
       "      <td>0.000000</td>\n",
       "    </tr>\n",
       "  </tbody>\n",
       "</table>\n",
       "<p>21713 rows × 5 columns</p>\n",
       "</div>"
      ],
      "text/plain": [
       "             source            id_source           target  \\\n",
       "0            jwl2nd           4563241355   chanleycourttv   \n",
       "1         simplyslj  1518917881119059968   theemilydbaker   \n",
       "2            jwl2nd           4563241355          courttv   \n",
       "3         simplyslj  1518917881119059968  legalbytesmedia   \n",
       "4           adrferg  1074757149748854792          courttv   \n",
       "...             ...                  ...              ...   \n",
       "21708     intheone9            208950166     ThatUmbrella   \n",
       "21709     intheone9            208950166      dailymailuk   \n",
       "21710     intheone9            208950166      elainebhoft   \n",
       "21711     intheone9            208950166  girlsreallyrule   \n",
       "21712  zzziiinnnggg             54606627     winonasrider   \n",
       "\n",
       "                 id_target   weights  \n",
       "0               4730732546  1.000000  \n",
       "1                 22594853  0.952055  \n",
       "2      1031946753510203392  0.924658  \n",
       "3      1262475778631106560  0.914384  \n",
       "4      1031946753510203392  0.633562  \n",
       "...                    ...       ...  \n",
       "21708   901030183213445125  0.000000  \n",
       "21709            111556423  0.000000  \n",
       "21710  1380604861486665730  0.000000  \n",
       "21711            580312540  0.000000  \n",
       "21712           1088984209  0.000000  \n",
       "\n",
       "[21713 rows x 5 columns]"
      ]
     },
     "execution_count": 2,
     "metadata": {},
     "output_type": "execute_result"
    }
   ],
   "source": [
    "df = pd.read_csv(\"../data_collection/data/df_grafo_pesato.csv\", skipinitialspace=True, na_values='?', keep_default_na=True)   \n",
    "del df['Unnamed: 0']\n",
    "df"
   ]
  },
  {
   "cell_type": "markdown",
   "id": "cd122302",
   "metadata": {},
   "source": [
    "Carico la rete reale (**g**) stabilendo la *source*, il *target* e l'attributo delle edges, nel nostro caso i pesi"
   ]
  },
  {
   "cell_type": "code",
   "execution_count": 4,
   "id": "21a613ed",
   "metadata": {},
   "outputs": [],
   "source": [
    "g = nx.from_pandas_edgelist(df, source=\"source\", target = \"target\", create_using=nx.MultiDiGraph())\n",
    "\n",
    "g2 = nx.Graph(g)\n"
   ]
  },
  {
   "cell_type": "code",
   "execution_count": 5,
   "id": "2b258ba9",
   "metadata": {},
   "outputs": [
    {
     "data": {
      "text/plain": [
       "'MultiDiGraph with 18266 nodes and 21713 edges'"
      ]
     },
     "execution_count": 5,
     "metadata": {},
     "output_type": "execute_result"
    }
   ],
   "source": [
    "nx.info(g) #multigrafo diretto"
   ]
  },
  {
   "cell_type": "code",
   "execution_count": 6,
   "id": "01083688",
   "metadata": {},
   "outputs": [
    {
     "data": {
      "text/plain": [
       "'Graph with 18266 nodes and 21697 edges'"
      ]
     },
     "execution_count": 6,
     "metadata": {},
     "output_type": "execute_result"
    }
   ],
   "source": [
    "nx.info(g2) "
   ]
  },
  {
   "cell_type": "code",
   "execution_count": 7,
   "id": "957e09c9",
   "metadata": {},
   "outputs": [],
   "source": [
    "#salvo la rete su Gephy\n",
    "nx.write_gexf(g, \"plots/RW_graph.gexf\")"
   ]
  },
  {
   "cell_type": "markdown",
   "id": "5b46f4d8",
   "metadata": {},
   "source": [
    "### Rete Random* (ER Graphs)\n"
   ]
  },
  {
   "cell_type": "code",
   "execution_count": 15,
   "id": "fddd7fee",
   "metadata": {},
   "outputs": [],
   "source": [
    "#creo una rete ER con n nodi = n nodi rete reale e probabilità di connessione tra i nodi (p) = 0.00011 e rete diretta\n",
    "er = nx.erdos_renyi_graph(18246,  0.00015, directed = False, seed = 42) #num nodi, probabilita'"
   ]
  },
  {
   "cell_type": "code",
   "execution_count": 51,
   "id": "e3afeb28",
   "metadata": {},
   "outputs": [],
   "source": [
    "#salvo la rete su Gephy*\n",
    "nx.write_gexf(er, \"plots/ER_graph.gexf\")"
   ]
  },
  {
   "cell_type": "markdown",
   "id": "4b5fbc12",
   "metadata": {},
   "source": [
    "### Scale-Free Networks (BA Model)"
   ]
  },
  {
   "cell_type": "code",
   "execution_count": 17,
   "id": "cd185a61",
   "metadata": {},
   "outputs": [],
   "source": [
    "ba = nx.barabasi_albert_graph(18246, 1, seed = 42)\n",
    "#m = Numero di edges da collegare da un nuovo nodo ai nodi esistenti\n",
    "#seed = indicatore del numero casuale"
   ]
  },
  {
   "cell_type": "code",
   "execution_count": 18,
   "id": "f05d1d77",
   "metadata": {},
   "outputs": [],
   "source": [
    "#salvo la rete su Gephy\n",
    "nx.write_gexf(ba, \"plots/BA_graph.gexf\")"
   ]
  },
  {
   "cell_type": "markdown",
   "id": "e356c58b",
   "metadata": {},
   "source": [
    "### Rete Watts-Strogatz (WS)"
   ]
  },
  {
   "cell_type": "code",
   "execution_count": 7,
   "id": "77fc6708",
   "metadata": {},
   "outputs": [],
   "source": [
    "ws = nx.watts_strogatz_graph(18246, k=3, p=0) #regular lattice (p=0)"
   ]
  },
  {
   "cell_type": "code",
   "execution_count": 8,
   "id": "66fa6c7d",
   "metadata": {},
   "outputs": [],
   "source": [
    "#salvo la rete su Gephy\n",
    "nx.write_gexf(ws, \"plots/WS_graph.gexf\")"
   ]
  },
  {
   "cell_type": "markdown",
   "id": "9435344a",
   "metadata": {},
   "source": [
    "### Configuration model\n",
    "\n",
    "Modello che genera la rete a partire dai suoi gradi/degree o dalla distribuzione dei gradi. Infatti, per creare questo tipo di modello mi baso sui gradi dei nodie  non sul numero di nodi come in quelli precedenti"
   ]
  },
  {
   "cell_type": "code",
   "execution_count": 9,
   "id": "6bde12bb",
   "metadata": {},
   "outputs": [],
   "source": [
    "sequence = [i[1] for i in g2.degree()]\n",
    "cm = nx.configuration_model(sequence)"
   ]
  },
  {
   "cell_type": "code",
   "execution_count": 10,
   "id": "e88533de",
   "metadata": {},
   "outputs": [],
   "source": [
    "#salvo la rete su Gephy\n",
    "nx.write_gexf(cm, \"plots/cm_graph.gexf\")"
   ]
  },
  {
   "cell_type": "markdown",
   "id": "a3f445fe",
   "metadata": {},
   "source": [
    "---"
   ]
  },
  {
   "cell_type": "markdown",
   "id": "2d2fcfbe",
   "metadata": {},
   "source": [
    "## INFORMAZIONI DI BASE  <a id=\"info\"></a>"
   ]
  },
  {
   "cell_type": "code",
   "execution_count": 15,
   "id": "04f60cc8",
   "metadata": {},
   "outputs": [],
   "source": [
    "#funzione che stampa le informazioni di base delle reti (num nodi, edges, lmax ecc.)\n",
    "def net_basic_info(g):\n",
    "    nodes = g.number_of_nodes()\n",
    "    edges = g.number_of_edges()\n",
    "    directness = g.is_directed()\n",
    "    self_loops = nx.number_of_selfloops(g)\n",
    "    lMax = ((nodes) * (nodes - 1)) / 2\n",
    "    AvgDegree = sum(dict(g.degree()).values())/float(len(g))\n",
    "\n",
    "    print('- Numero Nodi:', nodes)\n",
    "    print('- Numero Edges:', edges)\n",
    "    print (\"- Numero di self-loop: \", self_loops)\n",
    "    print(\"- La rete e' diretta:\",directness)\n",
    "    print('- Numero massimo di collegamenti (L_max):', lMax)\n",
    "    print('- Avarage Degree:', AvgDegree)\n"
   ]
  },
  {
   "cell_type": "code",
   "execution_count": 16,
   "id": "04981f7b",
   "metadata": {},
   "outputs": [],
   "source": [
    "lista_reti = [g2, er, ba, ws, cm] \n",
    "nomi_reti = [\"Real World (RETE REALE)\", \"Erdos-Renyi (ER)\", \"Barabasi Albert (BA)\" , \"Watts Strogats (WS)\", \"Configuration Model (CM)\"]"
   ]
  },
  {
   "cell_type": "code",
   "execution_count": 17,
   "id": "360656e7",
   "metadata": {},
   "outputs": [
    {
     "name": "stdout",
     "output_type": "stream",
     "text": [
      "INFORMAZIONI DI BASE DELLE 4 RETI\n",
      "\n",
      "--------------------------------\n",
      "Modello: Real World (RETE REALE)\n",
      "--------------------------------\n",
      "- Numero Nodi: 18246\n",
      "- Numero Edges: 21674\n",
      "- Numero di self-loop:  40\n",
      "- La rete e' diretta: False\n",
      "- Numero massimo di collegamenti (L_max): 166449135.0\n",
      "- Avarage Degree: 2.3757535898279074\n",
      "\n",
      "--------------------------------\n",
      "Modello: Erdos-Renyi (ER)\n",
      "--------------------------------\n",
      "- Numero Nodi: 18246\n",
      "- Numero Edges: 24924\n",
      "- Numero di self-loop:  0\n",
      "- La rete e' diretta: False\n",
      "- Numero massimo di collegamenti (L_max): 166449135.0\n",
      "- Avarage Degree: 2.7319960539296284\n",
      "\n",
      "--------------------------------\n",
      "Modello: Barabasi Albert (BA)\n",
      "--------------------------------\n",
      "- Numero Nodi: 18246\n",
      "- Numero Edges: 18245\n",
      "- Numero di self-loop:  0\n",
      "- La rete e' diretta: False\n",
      "- Numero massimo di collegamenti (L_max): 166449135.0\n",
      "- Avarage Degree: 1.9998903869341225\n",
      "\n",
      "--------------------------------\n",
      "Modello: Watts Strogats (WS)\n",
      "--------------------------------\n",
      "- Numero Nodi: 18246\n",
      "- Numero Edges: 18246\n",
      "- Numero di self-loop:  0\n",
      "- La rete e' diretta: False\n",
      "- Numero massimo di collegamenti (L_max): 166449135.0\n",
      "- Avarage Degree: 2.0\n",
      "\n",
      "--------------------------------\n",
      "Modello: Configuration Model (CM)\n",
      "--------------------------------\n",
      "- Numero Nodi: 18246\n",
      "- Numero Edges: 21674\n",
      "- Numero di self-loop:  29\n",
      "- La rete e' diretta: False\n",
      "- Numero massimo di collegamenti (L_max): 166449135.0\n",
      "- Avarage Degree: 2.3757535898279074\n"
     ]
    }
   ],
   "source": [
    "print(\"INFORMAZIONI DI BASE DELLE 4 RETI\")\n",
    "for net, nomi in zip(lista_reti, nomi_reti):\n",
    "\n",
    "    print(\"\\n--------------------------------\"f\"\\nModello: {nomi}\\n--------------------------------\")\n",
    "    net_basic_info(net)\n"
   ]
  },
  {
   "cell_type": "markdown",
   "id": "98337d9a",
   "metadata": {},
   "source": [
    "*****"
   ]
  },
  {
   "cell_type": "markdown",
   "id": "70d9cfcb",
   "metadata": {},
   "source": [
    "## DEGREE DISTRIBUTION <a id=\"dd\"></a>"
   ]
  },
  {
   "cell_type": "code",
   "execution_count": 8,
   "id": "d9cdda52",
   "metadata": {},
   "outputs": [
    {
     "data": {
      "image/png": "[encoded data removed]",
      "text/plain": [
       "<Figure size 720x576 with 1 Axes>"
      ]
     },
     "metadata": {
      "needs_background": "light"
     },
     "output_type": "display_data"
    }
   ],
   "source": [
    "hist_g = nx.degree_histogram(g2)\n",
    "\n",
    "fig = plt.figure(figsize=(10, 8)) \n",
    "plt.plot(range(0, len(hist_g)), hist_g,  \"o\", color = '#fb9a99')\n",
    "plt.title(\"Degree Distribution nella rete reale\", fontsize = 18)\n",
    "plt.xlabel(\"Degree\", fontsize = 14)\n",
    "plt.ylabel(\"Nodi\", fontsize = 14)\n",
    "plt.loglog()\n",
    "plt.savefig('plots/confronti_modelli_sintetici/degree_dist_rete_reale.png')\n",
    "\n",
    "plt.show()"
   ]
  },
  {
   "cell_type": "code",
   "execution_count": 20,
   "id": "42d3cdca",
   "metadata": {},
   "outputs": [
    {
     "data": {
      "image/png": "[encoded data removed]",
      "text/plain": [
       "<Figure size 1152x432 with 3 Axes>"
      ]
     },
     "metadata": {
      "needs_background": "light"
     },
     "output_type": "display_data"
    }
   ],
   "source": [
    "hist_g = nx.degree_histogram(g2)\n",
    "hist_er = nx.degree_histogram(er)\n",
    "hist_ba = nx.degree_histogram(ba)\n",
    "#hist_ws = nx.degree_histogram(ws)\n",
    "hist_cm = nx.degree_histogram(cm)\n",
    "\n",
    "fig = plt.figure(figsize=(16, 6)) \n",
    "\n",
    "\n",
    "plt.subplot(1, 3, 1)\n",
    "plt.plot(range(0, len(hist_er)), hist_er,  \"o\", color = '#ff7f00')\n",
    "plt.title(\"Degree Distribution ER\", fontsize = 18)\n",
    "plt.xlabel(\"Degree\", fontsize = 14)\n",
    "plt.ylabel(\"Nodi\", fontsize = 14)\n",
    "plt.loglog()\n",
    "\n",
    "plt.subplot(1, 3, 2)\n",
    "plt.plot(range(0, len(hist_ba)), hist_ba, \"o\", color = 'm')\n",
    "plt.title(\"Degree Distribution BA\", fontsize = 18)\n",
    "plt.xlabel(\"Degree\", fontsize = 14)\n",
    "plt.ylabel(\"Nodi\", fontsize = 14)\n",
    "plt.loglog()\n",
    "\n",
    "plt.subplot(1, 3, 3)\n",
    "plt.plot(range(0, len(hist_cm)), hist_cm, \"o\", color = '#1b9e77')\n",
    "plt.title(\"Degree Distribution CM\", fontsize = 18)\n",
    "plt.xlabel(\"Degree\", fontsize = 14)\n",
    "plt.ylabel(\"Nodi\", fontsize = 14)\n",
    "plt.loglog()\n",
    "\n",
    "\n",
    "plt.savefig('plots/confronti_modelli_sintetici/degree_dist_mod_sintetici_er_ba_cm.png')\n",
    "plt.show()"
   ]
  },
  {
   "cell_type": "code",
   "execution_count": 20,
   "id": "4118640b",
   "metadata": {},
   "outputs": [
    {
     "data": {
      "image/png": "[encoded data removed]",
      "text/plain": [
       "<Figure size 864x576 with 2 Axes>"
      ]
     },
     "metadata": {
      "needs_background": "light"
     },
     "output_type": "display_data"
    }
   ],
   "source": [
    "\n",
    "hist_ws = nx.degree_histogram(ws)\n",
    "hist_cm = nx.degree_histogram(cm)\n",
    "fig = plt.figure(figsize=(12, 8)) \n",
    " \n",
    "\n",
    "\n",
    "plt.subplot(1, 2, 1)\n",
    "plt.plot(range(0, len(hist_ws)), hist_ws, \"o\", color = 'y')\n",
    "plt.title(\"Degree Distribution WS\")\n",
    "plt.xlabel(\"Degree\")\n",
    "plt.ylabel(\"#Nodes\")\n",
    "plt.loglog()\n",
    "\n",
    "\n",
    "plt.subplot(1, 2, 2)\n",
    "plt.plot(range(0, len(hist_cm)), hist_cm, \"o\", color = 'c')\n",
    "plt.title(\"Degree Distribution CM\")\n",
    "plt.xlabel(\"Degree\")\n",
    "plt.ylabel(\"#Nodes\")\n",
    "plt.loglog()\n",
    "\n",
    "plt.savefig('plots/confronti_modelli_sintetici/degree_dist_mod_sintetici_ws_cm.png')\n",
    "plt.show()"
   ]
  },
  {
   "cell_type": "markdown",
   "id": "bf99d746",
   "metadata": {},
   "source": [
    "**CCDF** (complementary cumulative distribution function/funzione di distribuzione cumulativa complementare): un metodo di calcolo statistico che misura la potenza nel tempo(?)\n",
    "\n",
    "\n",
    "**CDF** (comulative distribuzion fraction) [https://en.wikipedia.org/wiki/Cumulative_distribution_function]"
   ]
  },
  {
   "cell_type": "code",
   "execution_count": 12,
   "id": "9ecf0c20",
   "metadata": {},
   "outputs": [],
   "source": [
    "def plot_dist(G):\n",
    "    M = nx.to_scipy_sparse_matrix(G)\n",
    "    xmin = min([d[1] for d in G.degree()])\n",
    "    indegrees = M.sum(0).A[0]\n",
    "    degree = np.bincount(indegrees)\n",
    "    fit = powerlaw.Fit(np.array(degree)+1, fit_method='KS')#, xmin=xmin, xmax=max(degree)-xmin,discrete=True)\n",
    "    \n",
    "    \n",
    "    fig = plt.figure(figsize=(16, 6)) \n",
    "    \"\"\" Plot Distribution \"\"\"\n",
    "    plt.subplot(1, 3, 1)\n",
    "    plt.plot(range(len(degree)),degree,'g.')   \n",
    "    plt.loglog()\n",
    "    plt.xlim((min(degree), max(degree)))\n",
    "    plt.title('Degree Distibution', fontsize = 16)\n",
    "    plt.xlabel('Degree', fontsize = 14)\n",
    "    plt.ylabel('P(k)', fontsize = 14)\n",
    "\n",
    "\n",
    "    \"\"\" Plot CDF \"\"\"\n",
    "    plt.subplot(1, 3, 2)\n",
    "    fit.plot_cdf()\n",
    "    plt.title(\"Comulative Degree Fraction\", fontsize = 16)\n",
    "    plt.xlabel(\"Degree\", fontsize = 14)\n",
    "    plt.ylabel('CDF', fontsize = 14)\n",
    "\n",
    "    \"\"\" Plot CCDF \"\"\"\n",
    "    plt.subplot(1, 3, 3)\n",
    "    fit.power_law.plot_pdf(color='r',linestyle='--',label='fit ccdf')\n",
    "    fit.plot_ccdf()\n",
    "    plt.title(\"Complementary Comulative Degree Fraction\", fontsize = 16)\n",
    "    plt.ylabel('CCDF', fontsize = 14)\n",
    "    plt.xlabel('Degree', fontsize = 14)\n",
    "    plt.tight_layout()\n",
    "    plt.show()\n",
    "    print(f'alpha={fit.power_law.alpha+1} sigma={fit.power_law.sigma}')"
   ]
  },
  {
   "cell_type": "code",
   "execution_count": 13,
   "id": "4130d868",
   "metadata": {},
   "outputs": [
    {
     "name": "stdout",
     "output_type": "stream",
     "text": [
      "Calculating best minimal value for power law fit\n",
      "xmin progress: 00%\r",
      "xmin progress: 03%\r",
      "xmin progress: 07%\r",
      "xmin progress: 11%\r",
      "xmin progress: 14%\r",
      "xmin progress: 18%\r",
      "xmin progress: 22%\r",
      "xmin progress: 25%\r",
      "xmin progress: 29%\r",
      "xmin progress: 33%\r",
      "xmin progress: 37%\r",
      "xmin progress: 40%\r",
      "xmin progress: 44%\r",
      "xmin progress: 48%\r",
      "xmin progress: 51%\r",
      "xmin progress: 55%\r",
      "xmin progress: 59%\r",
      "xmin progress: 62%\r",
      "xmin progress: 66%\r",
      "xmin progress: 70%\r",
      "xmin progress: 74%\r",
      "xmin progress: 77%\r",
      "xmin progress: 81%\r",
      "xmin progress: 85%\r",
      "xmin progress: 88%\r",
      "xmin progress: 92%\r",
      "xmin progress: 96%\r"
     ]
    },
    {
     "data": {
      "image/png": "[encoded data removed]",
      "text/plain": [
       "<Figure size 1152x432 with 3 Axes>"
      ]
     },
     "metadata": {
      "needs_background": "light"
     },
     "output_type": "display_data"
    },
    {
     "name": "stdout",
     "output_type": "stream",
     "text": [
      "alpha=2.592842171616695 sigma=0.08384054394470486\n"
     ]
    },
    {
     "data": {
      "text/plain": [
       "<Figure size 432x288 with 0 Axes>"
      ]
     },
     "metadata": {},
     "output_type": "display_data"
    }
   ],
   "source": [
    "plot_dist(g2)\n",
    "plt.savefig('plots/confronti_modelli_sintetici/degree_dist_g.png')"
   ]
  },
  {
   "cell_type": "code",
   "execution_count": 23,
   "id": "937bac0c",
   "metadata": {},
   "outputs": [
    {
     "name": "stdout",
     "output_type": "stream",
     "text": [
      "Calculating best minimal value for power law fit\n",
      "xmin progress: 00%\r",
      "xmin progress: 09%\r",
      "xmin progress: 18%\r",
      "xmin progress: 27%\r",
      "xmin progress: 36%\r",
      "xmin progress: 45%\r",
      "xmin progress: 54%\r",
      "xmin progress: 63%\r",
      "xmin progress: 72%\r",
      "xmin progress: 81%\r",
      "xmin progress: 90%\r"
     ]
    },
    {
     "data": {
      "image/png": "[encoded data removed]",
      "text/plain": [
       "<Figure size 1152x432 with 3 Axes>"
      ]
     },
     "metadata": {
      "needs_background": "light"
     },
     "output_type": "display_data"
    },
    {
     "name": "stdout",
     "output_type": "stream",
     "text": [
      "alpha=2.2104684373952077 sigma=0.060757004493021474\n"
     ]
    },
    {
     "data": {
      "text/plain": [
       "<Figure size 432x288 with 0 Axes>"
      ]
     },
     "metadata": {},
     "output_type": "display_data"
    }
   ],
   "source": [
    "plot_dist(er)\n",
    "plt.savefig('plots/confronti_modelli_sintetici/degree_dist_er.png')"
   ]
  },
  {
   "cell_type": "code",
   "execution_count": 24,
   "id": "119f978e",
   "metadata": {},
   "outputs": [
    {
     "name": "stdout",
     "output_type": "stream",
     "text": [
      "Calculating best minimal value for power law fit\n",
      "xmin progress: 96%\r"
     ]
    },
    {
     "data": {
      "image/png": "[encoded data removed]",
      "text/plain": [
       "<Figure size 1152x432 with 3 Axes>"
      ]
     },
     "metadata": {
      "needs_background": "light"
     },
     "output_type": "display_data"
    },
    {
     "name": "stdout",
     "output_type": "stream",
     "text": [
      "alpha=5.30514266650517 sigma=0.16283269189087732\n"
     ]
    },
    {
     "data": {
      "text/plain": [
       "<Figure size 432x288 with 0 Axes>"
      ]
     },
     "metadata": {},
     "output_type": "display_data"
    }
   ],
   "source": [
    "plot_dist(ba)\n",
    "plt.savefig('plots/confronti_modelli_sintetici/degree_dist_ba.png')"
   ]
  },
  {
   "cell_type": "code",
   "execution_count": 25,
   "id": "4e03bb01",
   "metadata": {},
   "outputs": [
    {
     "name": "stdout",
     "output_type": "stream",
     "text": [
      "Calculating best minimal value for power law fit\n",
      "xmin progress: 00%\r"
     ]
    },
    {
     "data": {
      "image/png": "[encoded data removed]",
      "text/plain": [
       "<Figure size 1152x432 with 3 Axes>"
      ]
     },
     "metadata": {
      "needs_background": "light"
     },
     "output_type": "display_data"
    },
    {
     "name": "stdout",
     "output_type": "stream",
     "text": [
      "alpha=2.3057556681635907 sigma=0.17652811732050297\n"
     ]
    },
    {
     "data": {
      "text/plain": [
       "<Figure size 432x288 with 0 Axes>"
      ]
     },
     "metadata": {},
     "output_type": "display_data"
    }
   ],
   "source": [
    "plot_dist(ws)\n",
    "plt.savefig('plots/confronti_modelli_sintetici/degree_dist_ws.png')"
   ]
  },
  {
   "cell_type": "code",
   "execution_count": 26,
   "id": "c36ac57e",
   "metadata": {},
   "outputs": [
    {
     "name": "stdout",
     "output_type": "stream",
     "text": [
      "Calculating best minimal value for power law fit\n",
      "xmin progress: 00%\r",
      "xmin progress: 03%\r",
      "xmin progress: 07%\r",
      "xmin progress: 11%\r",
      "xmin progress: 14%\r",
      "xmin progress: 18%\r",
      "xmin progress: 22%\r",
      "xmin progress: 25%\r",
      "xmin progress: 29%\r",
      "xmin progress: 33%\r",
      "xmin progress: 37%\r",
      "xmin progress: 40%\r",
      "xmin progress: 44%\r",
      "xmin progress: 48%\r",
      "xmin progress: 51%\r",
      "xmin progress: 55%\r",
      "xmin progress: 59%\r",
      "xmin progress: 62%\r",
      "xmin progress: 66%\r",
      "xmin progress: 70%\r",
      "xmin progress: 74%\r",
      "xmin progress: 77%\r",
      "xmin progress: 81%\r",
      "xmin progress: 85%\r",
      "xmin progress: 88%\r",
      "xmin progress: 92%\r",
      "xmin progress: 96%\r"
     ]
    },
    {
     "data": {
      "image/png": "[encoded data removed]",
      "text/plain": [
       "<Figure size 1152x432 with 3 Axes>"
      ]
     },
     "metadata": {
      "needs_background": "light"
     },
     "output_type": "display_data"
    },
    {
     "name": "stdout",
     "output_type": "stream",
     "text": [
      "alpha=2.5935694790300046 sigma=0.08394340074549651\n"
     ]
    },
    {
     "data": {
      "text/plain": [
       "<Figure size 432x288 with 0 Axes>"
      ]
     },
     "metadata": {},
     "output_type": "display_data"
    }
   ],
   "source": [
    "plot_dist(cm)\n",
    "plt.savefig('plots/confronti_modelli_sintetici/degree_dist_cm.png')"
   ]
  },
  {
   "cell_type": "markdown",
   "id": "6a49970f",
   "metadata": {},
   "source": [
    "---"
   ]
  },
  {
   "cell_type": "markdown",
   "id": "1d9deecd",
   "metadata": {},
   "source": [
    "## CLUSTERING COEFF. E DENSITÀ <a id=\"cc\"></a>"
   ]
  },
  {
   "cell_type": "code",
   "execution_count": 38,
   "id": "95e31142",
   "metadata": {},
   "outputs": [],
   "source": [
    "#trasformo g in grafo semplice per poter calcolare l'avg cluster coeff\n",
    "g2 = nx.Graph(g)"
   ]
  },
  {
   "cell_type": "code",
   "execution_count": 39,
   "id": "9cabf95b",
   "metadata": {},
   "outputs": [
    {
     "data": {
      "text/plain": [
       "'Graph with 18246 nodes and 21386 edges'"
      ]
     },
     "execution_count": 39,
     "metadata": {},
     "output_type": "execute_result"
    }
   ],
   "source": [
    "cm2 = nx.Graph(cm)\n",
    "nx.info(cm2)"
   ]
  },
  {
   "cell_type": "markdown",
   "id": "d5a2f3f3",
   "metadata": {},
   "source": [
    "### RETE REALE"
   ]
  },
  {
   "cell_type": "code",
   "execution_count": 40,
   "id": "9e1f3594",
   "metadata": {
    "scrolled": true
   },
   "outputs": [
    {
     "data": {
      "text/plain": [
       "[('jacxpearl', 1.0),\n",
       " ('ihaveadream0101', 1.0),\n",
       " ('goblinqchesh', 1.0),\n",
       " ('KevinRashidi', 1.0),\n",
       " ('courttvfans', 1.0),\n",
       " ('robbloodysaul', 1.0),\n",
       " ('amypolacko', 1.0),\n",
       " ('ssolorio77', 1.0),\n",
       " ('chrisablesfool', 1.0),\n",
       " ('blaw', 1.0)]"
      ]
     },
     "execution_count": 40,
     "metadata": {},
     "output_type": "execute_result"
    }
   ],
   "source": [
    "cc = nx.clustering(g2)\n",
    "ordine_cc_g = [(k, v) for k, v in sorted(cc.items(), key=lambda item: -item[1])]\n",
    "ordine_cc_g[0:10]"
   ]
  },
  {
   "cell_type": "code",
   "execution_count": 41,
   "id": "8b62a00b",
   "metadata": {},
   "outputs": [
    {
     "data": {
      "text/plain": [
       "[('deppheardtruth', 116),\n",
       " ('lawyerschiff', 60),\n",
       " ('courttv', 59),\n",
       " ('andysignore', 59),\n",
       " ('ianrunkle', 45),\n",
       " ('laurabockov', 42),\n",
       " ('thatbrianfella', 40),\n",
       " ('youtube', 35),\n",
       " ('chanleycourttv', 30),\n",
       " ('ashleycourttv', 29)]"
      ]
     },
     "execution_count": 41,
     "metadata": {},
     "output_type": "execute_result"
    }
   ],
   "source": [
    "triangoli = nx.triangles(g2)\n",
    "ordine_triangoli_g = [(k, v) for k, v in sorted(triangoli.items(), key=lambda item: -item[1])]\n",
    "ordine_triangoli_g[0:10]"
   ]
  },
  {
   "cell_type": "markdown",
   "id": "7217e777",
   "metadata": {},
   "source": [
    "### ER"
   ]
  },
  {
   "cell_type": "code",
   "execution_count": 42,
   "id": "a6475784",
   "metadata": {
    "scrolled": true
   },
   "outputs": [
    {
     "data": {
      "text/plain": [
       "[(8205, 0.3333333333333333),\n",
       " (2245, 0.16666666666666666),\n",
       " (4188, 0.16666666666666666),\n",
       " (9421, 0.16666666666666666),\n",
       " (12996, 0.16666666666666666),\n",
       " (2503, 0.1),\n",
       " (11920, 0.1),\n",
       " (6953, 0.047619047619047616),\n",
       " (17372, 0.03571428571428571),\n",
       " (0, 0)]"
      ]
     },
     "execution_count": 42,
     "metadata": {},
     "output_type": "execute_result"
    }
   ],
   "source": [
    "cc_er = nx.clustering(er)\n",
    "ordine_cc_er = [(k, v) for k, v in sorted(cc_er.items(), key=lambda item: -item[1])]\n",
    "ordine_cc_er[0:10]"
   ]
  },
  {
   "cell_type": "code",
   "execution_count": 43,
   "id": "8d7b9abb",
   "metadata": {},
   "outputs": [
    {
     "data": {
      "text/plain": [
       "[(0, 0),\n",
       " (1, 0),\n",
       " (2, 0),\n",
       " (3, 0),\n",
       " (4, 0),\n",
       " (5, 0),\n",
       " (6, 0),\n",
       " (7, 0),\n",
       " (8, 0),\n",
       " (9, 0)]"
      ]
     },
     "execution_count": 43,
     "metadata": {},
     "output_type": "execute_result"
    }
   ],
   "source": [
    "triangoli_er = nx.triangles(ba)\n",
    "ordine_triangoli_er = [(k, v) for k, v in sorted(triangoli_er.items(), key=lambda item: -item[1])]\n",
    "ordine_triangoli_er[0:10]"
   ]
  },
  {
   "cell_type": "markdown",
   "id": "cba40dce",
   "metadata": {},
   "source": [
    "### BA"
   ]
  },
  {
   "cell_type": "code",
   "execution_count": 44,
   "id": "92aa0eb2",
   "metadata": {},
   "outputs": [
    {
     "data": {
      "text/plain": [
       "[(0, 0),\n",
       " (1, 0),\n",
       " (2, 0),\n",
       " (3, 0),\n",
       " (4, 0),\n",
       " (5, 0),\n",
       " (6, 0),\n",
       " (7, 0),\n",
       " (8, 0),\n",
       " (9, 0)]"
      ]
     },
     "execution_count": 44,
     "metadata": {},
     "output_type": "execute_result"
    }
   ],
   "source": [
    "cc_ba = nx.clustering(ba)\n",
    "ordine_cc_ba = [(k, v) for k, v in sorted(cc_ba.items(), key=lambda item: -item[1])]\n",
    "ordine_cc_ba[0:10]"
   ]
  },
  {
   "cell_type": "code",
   "execution_count": 45,
   "id": "8629ac81",
   "metadata": {},
   "outputs": [
    {
     "data": {
      "text/plain": [
       "[(0, 0),\n",
       " (1, 0),\n",
       " (2, 0),\n",
       " (3, 0),\n",
       " (4, 0),\n",
       " (5, 0),\n",
       " (6, 0),\n",
       " (7, 0),\n",
       " (8, 0),\n",
       " (9, 0)]"
      ]
     },
     "execution_count": 45,
     "metadata": {},
     "output_type": "execute_result"
    }
   ],
   "source": [
    "triangoli_ba = nx.triangles(ba)\n",
    "ordine_triangoli_ba = [(k, v) for k, v in sorted(triangoli_ba.items(), key=lambda item: -item[1])]\n",
    "ordine_triangoli_ba[0:10]"
   ]
  },
  {
   "cell_type": "markdown",
   "id": "4e105ce6",
   "metadata": {},
   "source": [
    "### WS"
   ]
  },
  {
   "cell_type": "code",
   "execution_count": 46,
   "id": "bd6bbb80",
   "metadata": {},
   "outputs": [
    {
     "data": {
      "text/plain": [
       "[(0, 0),\n",
       " (1, 0),\n",
       " (2, 0),\n",
       " (3, 0),\n",
       " (4, 0),\n",
       " (5, 0),\n",
       " (6, 0),\n",
       " (7, 0),\n",
       " (8, 0),\n",
       " (9, 0)]"
      ]
     },
     "execution_count": 46,
     "metadata": {},
     "output_type": "execute_result"
    }
   ],
   "source": [
    "cc_ws = nx.clustering(ws)\n",
    "ordine_cc_ws = [(k, v) for k, v in sorted(cc_ws.items(), key=lambda item: -item[1])]\n",
    "ordine_cc_ws[0:10]"
   ]
  },
  {
   "cell_type": "code",
   "execution_count": 47,
   "id": "ef4a977d",
   "metadata": {},
   "outputs": [
    {
     "data": {
      "text/plain": [
       "[(0, 0),\n",
       " (1, 0),\n",
       " (2, 0),\n",
       " (3, 0),\n",
       " (4, 0),\n",
       " (5, 0),\n",
       " (6, 0),\n",
       " (7, 0),\n",
       " (8, 0),\n",
       " (9, 0)]"
      ]
     },
     "execution_count": 47,
     "metadata": {},
     "output_type": "execute_result"
    }
   ],
   "source": [
    "triangoli_ws = nx.triangles(ws)\n",
    "ordine_triangoli_ws= [(k, v) for k, v in sorted(triangoli_ws.items(), key=lambda item: -item[1])]\n",
    "ordine_triangoli_ws[0:10]"
   ]
  },
  {
   "cell_type": "markdown",
   "id": "d379b58a",
   "metadata": {},
   "source": [
    "### CM"
   ]
  },
  {
   "cell_type": "code",
   "execution_count": 48,
   "id": "89a8d3fa",
   "metadata": {},
   "outputs": [
    {
     "data": {
      "text/plain": [
       "[(167, 1.0),\n",
       " (497, 1.0),\n",
       " (600, 1.0),\n",
       " (1530, 1.0),\n",
       " (1649, 1.0),\n",
       " (1727, 1.0),\n",
       " (1930, 1.0),\n",
       " (2045, 1.0),\n",
       " (2286, 1.0),\n",
       " (2367, 1.0)]"
      ]
     },
     "execution_count": 48,
     "metadata": {},
     "output_type": "execute_result"
    }
   ],
   "source": [
    "cc_cm = nx.clustering(cm2)\n",
    "ordine_cc_cm = [(k, v) for k, v in sorted(cc_cm.items(), key=lambda item: -item[1])]\n",
    "ordine_cc_cm[0:10]"
   ]
  },
  {
   "cell_type": "code",
   "execution_count": 49,
   "id": "dc78a6f5",
   "metadata": {},
   "outputs": [
    {
     "data": {
      "text/plain": [
       "[(8, 621),\n",
       " (29, 601),\n",
       " (27, 437),\n",
       " (3, 381),\n",
       " (17, 354),\n",
       " (32, 251),\n",
       " (75, 247),\n",
       " (70, 234),\n",
       " (37, 219),\n",
       " (5, 195)]"
      ]
     },
     "execution_count": 49,
     "metadata": {},
     "output_type": "execute_result"
    }
   ],
   "source": [
    "triangoli_cm = nx.triangles(cm2)\n",
    "ordine_triangoli_cm = [(k, v) for k, v in sorted(triangoli_cm.items(), key=lambda item: -item[1])]\n",
    "ordine_triangoli_cm[0:10]"
   ]
  },
  {
   "cell_type": "code",
   "execution_count": 50,
   "id": "7d782a61",
   "metadata": {},
   "outputs": [
    {
     "name": "stdout",
     "output_type": "stream",
     "text": [
      "----------------------------------\n",
      " CLUSTERING COFFICIENT E DENSITA \n",
      "----------------------------------\n",
      "\n",
      "RETE REALE\n",
      "- Densita': 0.0001301899225850588 \n",
      " - Average Clustering Coeff:  0.008794979537351949\n",
      "\n",
      "MODELLO ER\n",
      "- Densita': 0.00014973943841762832 \n",
      " - Average Clustering Coeff:  7.033505060469876e-05\n",
      "\n",
      "MODELLO BA\n",
      "- Densita': 0.00010961306587745259 \n",
      " - Average Clustering Coeff:  0.0\n",
      "\n",
      "MODELLO WS\n",
      "- Densita': 0.00010961907371882707 \n",
      "- Average Clustering Coeff:  0.0\n",
      "\n",
      " CONFIGURATION MODEL\n",
      "- Densita': 0.00012848369563470547 \n",
      "- Average Clustering Coeff:  0.006839182897968738\n"
     ]
    }
   ],
   "source": [
    "print(\"----------------------------------\\n CLUSTERING COFFICIENT E DENSITA \\n----------------------------------\\n\")\n",
    "print(\"RETE REALE\")\n",
    "print (\"- Densita':\", nx.density(g2),\n",
    "       \"\\n - Average Clustering Coeff: \", nx.average_clustering(g2)) #passo all'avg clusteing g2, ossia il grafo semplice \n",
    "print(\"\\nMODELLO ER\")\n",
    "print (\"- Densita':\", nx.density(er),\n",
    "       \"\\n - Average Clustering Coeff: \", nx.average_clustering(er))\n",
    "print(\"\\nMODELLO BA\")\n",
    "print (\"- Densita':\", nx.density(ba),\n",
    "       \"\\n - Average Clustering Coeff: \", nx.average_clustering(ba))\n",
    "print(\"\\nMODELLO WS\")\n",
    "print (\"- Densita':\", nx.density(ws),\n",
    "       \"\\n- Average Clustering Coeff: \", nx.average_clustering(ws))\n",
    "print(\"\\n CONFIGURATION MODEL\")\n",
    "print (\"- Densita':\", nx.density(cm2),\n",
    "       \"\\n- Average Clustering Coeff: \", nx.average_clustering(cm2))\n"
   ]
  },
  {
   "cell_type": "markdown",
   "id": "d3a54b58",
   "metadata": {},
   "source": [
    "***"
   ]
  },
  {
   "cell_type": "markdown",
   "id": "371f5eb1",
   "metadata": {},
   "source": [
    "## CONNECTED COMPONENTS  <a id = 'comps'> </a>"
   ]
  },
  {
   "cell_type": "markdown",
   "id": "eabae22d",
   "metadata": {},
   "source": [
    "## Rete reale"
   ]
  },
  {
   "cell_type": "code",
   "execution_count": 27,
   "id": "69b66208",
   "metadata": {},
   "outputs": [
    {
     "name": "stdout",
     "output_type": "stream",
     "text": [
      "- Componenti connesse RETE REALE: 2408\n",
      "- Componente maggiore: 11974\n"
     ]
    }
   ],
   "source": [
    "comps_g = list(nx.connected_components(g2.to_undirected())) \n",
    "print (\"- Componenti connesse RETE REALE:\", len(comps_g))\n",
    "\n",
    "big_comp_g = len(comps_g[0])\n",
    "print ('- Componente maggiore:', big_comp_g)\n",
    "#per calcolare le componenti connesse è necessario trasformare la rete  da diretta a indiretta"
   ]
  },
  {
   "cell_type": "code",
   "execution_count": 28,
   "id": "7cd39b72",
   "metadata": {},
   "outputs": [
    {
     "data": {
      "text/plain": [
       "11974"
      ]
     },
     "execution_count": 28,
     "metadata": {},
     "output_type": "execute_result"
    }
   ],
   "source": [
    "big_comp_g"
   ]
  },
  {
   "cell_type": "markdown",
   "id": "48538656",
   "metadata": {},
   "source": [
    "### ER"
   ]
  },
  {
   "cell_type": "code",
   "execution_count": 29,
   "id": "1f44e769",
   "metadata": {},
   "outputs": [],
   "source": [
    "#componenti connesse\n",
    "comps_er = list(nx.connected_components(er.to_undirected())) \n",
    "\n",
    "#giant component\n",
    "big_comp_er = len(comps_er[0])"
   ]
  },
  {
   "cell_type": "markdown",
   "id": "cb90a558",
   "metadata": {},
   "source": [
    "### BA "
   ]
  },
  {
   "cell_type": "code",
   "execution_count": 30,
   "id": "8525d2c8",
   "metadata": {},
   "outputs": [],
   "source": [
    "#componenti connesse\n",
    "comps_ba = list(nx.connected_components(ba.to_undirected())) \n",
    "\n",
    "#giant component\n",
    "big_comp_ba = len(comps_ba[0])"
   ]
  },
  {
   "cell_type": "markdown",
   "id": "2a14a824",
   "metadata": {},
   "source": [
    "### WS"
   ]
  },
  {
   "cell_type": "code",
   "execution_count": 31,
   "id": "3371368e",
   "metadata": {},
   "outputs": [],
   "source": [
    "#componenti\n",
    "comps_ws = list(nx.connected_components(ws.to_undirected())) \n",
    "\n",
    "#giant component\n",
    "big_comp_ws = len(comps_ws[0])"
   ]
  },
  {
   "cell_type": "markdown",
   "id": "bdde2f1f",
   "metadata": {},
   "source": [
    "### **CM**"
   ]
  },
  {
   "cell_type": "code",
   "execution_count": 32,
   "id": "edfe1f93",
   "metadata": {},
   "outputs": [],
   "source": [
    "#componenti connesse\n",
    "comps_cm = list(nx.connected_components(cm.to_undirected())) \n",
    "#print (\"- Componenti connesse RETE REALE:\", len(comps_cm))\n",
    "\n",
    "#giant component\n",
    "big_comp_cm = len(comps_cm[0])\n",
    "#print ('- Componente maggiore:', big_comp_cm)"
   ]
  },
  {
   "cell_type": "code",
   "execution_count": 33,
   "id": "67192961",
   "metadata": {},
   "outputs": [
    {
     "name": "stdout",
     "output_type": "stream",
     "text": [
      "\n",
      "----------------------\n",
      " COMPONENTI CONNESSE \n",
      "-----------------------\n",
      "\n",
      "RETE REALE\n",
      "- Componenti connesse: 2408\n",
      "- Componente maggiore: 11974\n",
      "\n",
      "MODELLO ER\n",
      "- Componenti connesse: 1381\n",
      "- Componente maggiore: 16711\n",
      "\n",
      "MODELLO BA\n",
      "- Componenti connesse: 1\n",
      "- Componente maggiore: 18246\n",
      "\n",
      "MODELLO WS\n",
      "- Componenti connesse: 1\n",
      "- Componente maggiore: 18246\n",
      "\n",
      "CONFIGURATION MODEL\n",
      "- Componenti connesse: 2167\n",
      "- Componente maggiore: 13532\n"
     ]
    }
   ],
   "source": [
    "print(\"\\n----------------------\\n COMPONENTI CONNESSE \\n-----------------------\")\n",
    "print(\"\\nRETE REALE\")\n",
    "print (\"- Componenti connesse:\", len(comps_g))\n",
    "print (\"- Componente maggiore:\", big_comp_g)\n",
    "\n",
    "print(\"\\nMODELLO ER\")\n",
    "print (\"- Componenti connesse:\", len(comps_er))\n",
    "print (\"- Componente maggiore:\", big_comp_er)\n",
    "\n",
    "print(\"\\nMODELLO BA\")\n",
    "print (\"- Componenti connesse:\", len(comps_ba))\n",
    "print (\"- Componente maggiore:\", big_comp_ba)\n",
    "\n",
    "print(\"\\nMODELLO WS\")\n",
    "print (\"- Componenti connesse:\", len(comps_ws))\n",
    "print (\"- Componente maggiore:\", big_comp_ws)\n",
    "\n",
    "print(\"\\nCONFIGURATION MODEL\")\n",
    "print (\"- Componenti connesse:\", len(comps_cm))\n",
    "print (\"- Componente maggiore:\", big_comp_cm)"
   ]
  },
  {
   "cell_type": "markdown",
   "id": "172d2b2e",
   "metadata": {},
   "source": [
    "La rete con più componenti connesse è la rete random (ER)"
   ]
  },
  {
   "cell_type": "markdown",
   "id": "a9263dd6",
   "metadata": {},
   "source": [
    "### *Componenti debolmente e fortemente connesse* "
   ]
  },
  {
   "cell_type": "markdown",
   "id": "e22cf6bb",
   "metadata": {},
   "source": [
    "Prima però è necessario trasformare il grafo reale (g) e la rete random (er) in reti dirette\n"
   ]
  },
  {
   "cell_type": "code",
   "execution_count": 20,
   "id": "ab215cb7",
   "metadata": {},
   "outputs": [],
   "source": [
    "gd = g2.to_directed()"
   ]
  },
  {
   "cell_type": "code",
   "execution_count": 21,
   "id": "1e1ecddc",
   "metadata": {},
   "outputs": [],
   "source": [
    "erd = er.to_directed()"
   ]
  },
  {
   "cell_type": "code",
   "execution_count": 22,
   "id": "97b4de22",
   "metadata": {},
   "outputs": [],
   "source": [
    "cmd = cm.to_directed()"
   ]
  },
  {
   "cell_type": "code",
   "execution_count": 23,
   "id": "eb1dfe6a",
   "metadata": {},
   "outputs": [],
   "source": [
    "#componenti debolmente connesse\n",
    "scc_g = nx.number_strongly_connected_components(gd)\n",
    "scc_er = nx.number_strongly_connected_components(erd)\n",
    "scc_cm = nx.number_strongly_connected_components(cmd)"
   ]
  },
  {
   "cell_type": "code",
   "execution_count": 24,
   "id": "57177b98",
   "metadata": {},
   "outputs": [],
   "source": [
    "#componenti debolmente connesse\n",
    "wcc_g = nx.number_weakly_connected_components(gd)\n",
    "wcc_er = nx.number_weakly_connected_components(erd)\n",
    "wcc_cm = nx.number_weakly_connected_components(cmd)"
   ]
  },
  {
   "cell_type": "code",
   "execution_count": 25,
   "id": "ea062a55",
   "metadata": {},
   "outputs": [
    {
     "name": "stdout",
     "output_type": "stream",
     "text": [
      "- Componenti FORTEMENTE CONNESSE rete reale: 2408\n",
      "- Componenti FORTEMENTE CONNESSE modello random: 1381\n",
      "- Componenti FORTEMENTE CONNESSE configuration model: 2167\n",
      "-------------------------------------------------------\n",
      "- Componenti DEBOLMENTE CONNESSE rete reale: 2408\n",
      "- Componenti DEBOLMENTE CONNESSE modello random: 1381\n",
      "- Componenti DEBOLMENTE CONNESSE configuration model: 2167\n"
     ]
    }
   ],
   "source": [
    "print (\"- Componenti FORTEMENTE CONNESSE rete reale:\", scc_g)\n",
    "print (\"- Componenti FORTEMENTE CONNESSE modello random:\", scc_er)\n",
    "print (\"- Componenti FORTEMENTE CONNESSE configuration model:\", scc_cm)\n",
    "print('-------------------------------------------------------')\n",
    "print (\"- Componenti DEBOLMENTE CONNESSE rete reale:\", wcc_g)\n",
    "print (\"- Componenti DEBOLMENTE CONNESSE modello random:\", wcc_er)\n",
    "print (\"- Componenti DEBOLMENTE CONNESSE configuration model:\", wcc_cm)"
   ]
  },
  {
   "cell_type": "markdown",
   "id": "cbffce34",
   "metadata": {},
   "source": [
    "## HUBS <a id = 'hubs'> </a>"
   ]
  },
  {
   "cell_type": "code",
   "execution_count": 64,
   "id": "078ee77e",
   "metadata": {},
   "outputs": [],
   "source": [
    "def find_hubs(g, t_degree):\n",
    "    hubs = []\n",
    "    noHubs = []\n",
    "    for i in g: #scorro i nodi in g\n",
    "        if g.degree(i) >=  t_degree:\n",
    "            hubs.append(i)\n",
    "        else:\n",
    "            noHubs.append(i)\n",
    "        \n",
    "    print(\"Numero di hubs nella rete: \", len(hubs))\n",
    "    \n",
    "    return hubs, noHubs\n"
   ]
  },
  {
   "cell_type": "markdown",
   "id": "6d233797",
   "metadata": {},
   "source": [
    "### RETE REALE"
   ]
  },
  {
   "cell_type": "code",
   "execution_count": 66,
   "id": "bb70df55",
   "metadata": {},
   "outputs": [
    {
     "name": "stdout",
     "output_type": "stream",
     "text": [
      "-----------\n",
      "RETE REALE\n",
      "-----------\n",
      "Numero di hubs nella rete:  40\n",
      "\n",
      "\n",
      "nodo:  theemilydbaker   | degree: 370\n",
      "nodo:  courttv   | degree: 205\n",
      "nodo:  legalbytesmedia   | degree: 183\n",
      "nodo:  youtube   | degree: 498\n",
      "nodo:  queenofcodebass   | degree: 66\n",
      "nodo:  rekietalaw   | degree: 130\n",
      "nodo:  thatumbrella   | degree: 294\n",
      "nodo:  GellertDepp   | degree: 145\n",
      "nodo:  TheEmilyDBaker   | degree: 107\n",
      "nodo:  realamberheard   | degree: 413\n",
      "nodo:  deppheardtruth   | degree: 548\n",
      "nodo:  tmz   | degree: 247\n",
      "nodo:  ThatUmbrella   | degree: 172\n",
      "nodo:  kyduiguy   | degree: 223\n",
      "nodo:  lawcrimenetwork   | degree: 91\n",
      "nodo:  DrProudman   | degree: 107\n",
      "nodo:  reenie62   | degree: 133\n",
      "nodo:  KyDUIGuy   | degree: 85\n",
      "nodo:  ianrunkle   | degree: 173\n",
      "nodo:  mensurvivetoo   | degree: 69\n",
      "nodo:  ThatBrianFella   | degree: 78\n",
      "nodo:  robert__leonard   | degree: 278\n",
      "nodo:  elonmusk   | degree: 261\n",
      "nodo:  jamesfromcourt   | degree: 112\n",
      "nodo:  thirdgirlll   | degree: 72\n",
      "nodo:  voguemagazine   | degree: 115\n",
      "nodo:  andysignore   | degree: 108\n",
      "nodo:  CourtTV   | degree: 117\n",
      "nodo:  eve_barlow   | degree: 118\n",
      "nodo:  niermanjoe   | degree: 61\n",
      "nodo:  lumberlaw   | degree: 107\n",
      "nodo:  nypost   | degree: 159\n",
      "nodo:  disney   | degree: 66\n",
      "nodo:  warnerbros   | degree: 63\n",
      "nodo:  LawCrimeNetwork   | degree: 105\n",
      "nodo:  thatbrianfella   | degree: 82\n",
      "nodo:  madsonovich   | degree: 111\n",
      "nodo:  limeritweets   | degree: 60\n",
      "nodo:  voxdotcom   | degree: 78\n",
      "nodo:  wbpictures   | degree: 62\n"
     ]
    }
   ],
   "source": [
    "print('-----------\\n RETE REALE\\n-----------')\n",
    "hubs, noHubs = find_hubs(g, 60)\n",
    "print('\\n')\n",
    "for i in hubs:\n",
    "    sorted(hubs)\n",
    "    print('nodo: ',  i, '', ' | degree:', g.degree(i))\n"
   ]
  },
  {
   "cell_type": "markdown",
   "id": "2bce50b2",
   "metadata": {},
   "source": [
    "### ER"
   ]
  },
  {
   "cell_type": "code",
   "execution_count": 67,
   "id": "1d740e74",
   "metadata": {},
   "outputs": [
    {
     "name": "stdout",
     "output_type": "stream",
     "text": [
      "-----------\n",
      "RETE RANDOM\n",
      "-----------\n",
      "Numero di hubs nella rete:  34\n",
      "\n",
      "\n",
      "nodo:  1297   | degree:  10\n",
      "nodo:  2071   | degree:  10\n",
      "nodo:  2562   | degree:  9\n",
      "nodo:  2585   | degree:  10\n",
      "nodo:  2893   | degree:  9\n",
      "nodo:  3042   | degree:  9\n",
      "nodo:  3105   | degree:  9\n",
      "nodo:  3899   | degree:  9\n",
      "nodo:  4312   | degree:  10\n",
      "nodo:  4330   | degree:  9\n",
      "nodo:  5472   | degree:  9\n",
      "nodo:  5536   | degree:  9\n",
      "nodo:  5728   | degree:  9\n",
      "nodo:  5957   | degree:  9\n",
      "nodo:  6582   | degree:  9\n",
      "nodo:  8442   | degree:  11\n",
      "nodo:  9022   | degree:  9\n",
      "nodo:  9280   | degree:  9\n",
      "nodo:  9487   | degree:  9\n",
      "nodo:  9524   | degree:  10\n",
      "nodo:  10145   | degree:  9\n",
      "nodo:  10886   | degree:  9\n",
      "nodo:  13698   | degree:  9\n",
      "nodo:  13780   | degree:  9\n",
      "nodo:  13824   | degree:  9\n",
      "nodo:  13956   | degree:  9\n",
      "nodo:  14257   | degree:  9\n",
      "nodo:  15138   | degree:  9\n",
      "nodo:  15217   | degree:  9\n",
      "nodo:  16027   | degree:  10\n",
      "nodo:  16569   | degree:  9\n",
      "nodo:  17122   | degree:  11\n",
      "nodo:  17313   | degree:  9\n",
      "nodo:  17581   | degree:  9\n"
     ]
    }
   ],
   "source": [
    "print('-----------\\n RETE RANDOM\\n-----------')\n",
    "hubs, noHubs = find_hubs(er, 9) #in er il grado max è 9\n",
    "print('\\n')\n",
    "for i in hubs:\n",
    "    sorted(hubs)\n",
    "    print('nodo: ', i, '', ' | degree: ', er.degree(i))\n"
   ]
  },
  {
   "cell_type": "markdown",
   "id": "30f6539d",
   "metadata": {},
   "source": [
    "### BA"
   ]
  },
  {
   "cell_type": "code",
   "execution_count": 68,
   "id": "4a0b1d5e",
   "metadata": {},
   "outputs": [
    {
     "name": "stdout",
     "output_type": "stream",
     "text": [
      "-----------\n",
      "RETE BA\n",
      "-----------\n",
      "Numero di hubs nella rete:  11\n",
      "\n",
      "\n",
      "nodo:  0   | degree:  411\n",
      "nodo:  2   | degree:  95\n",
      "nodo:  3   | degree:  63\n",
      "nodo:  7   | degree:  120\n",
      "nodo:  9   | degree:  100\n",
      "nodo:  19   | degree:  83\n",
      "nodo:  21   | degree:  62\n",
      "nodo:  22   | degree:  105\n",
      "nodo:  34   | degree:  83\n",
      "nodo:  55   | degree:  64\n",
      "nodo:  88   | degree:  62\n"
     ]
    }
   ],
   "source": [
    "print('-----------\\n RETE BA\\n-----------')\n",
    "hubs, noHubs = find_hubs(ba, 60)\n",
    "print('\\n')\n",
    "for i in hubs:\n",
    "    sorted(hubs)\n",
    "    print('nodo: ', i, '', ' | degree: ', ba.degree(i))\n"
   ]
  },
  {
   "cell_type": "markdown",
   "id": "e89cdc65",
   "metadata": {},
   "source": [
    "### WS"
   ]
  },
  {
   "cell_type": "code",
   "execution_count": 69,
   "id": "dd84d353",
   "metadata": {},
   "outputs": [
    {
     "name": "stdout",
     "output_type": "stream",
     "text": [
      "-----------\n",
      " RETE WS \n",
      "-----------\n",
      "Numero di hubs nella rete:  0\n",
      "\n",
      "\n"
     ]
    }
   ],
   "source": [
    "print('-----------\\n RETE WS \\n-----------')\n",
    "hubs, noHubs = find_hubs(ws, 60) #in ws hanno tutti grado/degree = 2\n",
    "print('\\n')\n",
    "for i in hubs:\n",
    "    sorted(hubs)\n",
    "    print('nodo', i, '', ' | degree:', ws.degree(i))\n"
   ]
  },
  {
   "cell_type": "markdown",
   "id": "bcaed570",
   "metadata": {},
   "source": [
    "### CM"
   ]
  },
  {
   "cell_type": "code",
   "execution_count": 71,
   "id": "e9f1a47a",
   "metadata": {},
   "outputs": [
    {
     "name": "stdout",
     "output_type": "stream",
     "text": [
      "-----------\n",
      " RETE WS \n",
      "-----------\n",
      "Numero di hubs nella rete:  40\n",
      "\n",
      "\n",
      "nodo:  3   | degree: 370\n",
      "nodo:  4   | degree: 205\n",
      "nodo:  5   | degree: 183\n",
      "nodo:  8   | degree: 498\n",
      "nodo:  13   | degree: 66\n",
      "nodo:  16   | degree: 130\n",
      "nodo:  17   | degree: 294\n",
      "nodo:  19   | degree: 145\n",
      "nodo:  21   | degree: 107\n",
      "nodo:  27   | degree: 413\n",
      "nodo:  29   | degree: 548\n",
      "nodo:  32   | degree: 247\n",
      "nodo:  34   | degree: 172\n",
      "nodo:  37   | degree: 223\n",
      "nodo:  40   | degree: 91\n",
      "nodo:  45   | degree: 107\n",
      "nodo:  54   | degree: 133\n",
      "nodo:  58   | degree: 85\n",
      "nodo:  59   | degree: 173\n",
      "nodo:  60   | degree: 69\n",
      "nodo:  65   | degree: 78\n",
      "nodo:  70   | degree: 278\n",
      "nodo:  75   | degree: 261\n",
      "nodo:  76   | degree: 112\n",
      "nodo:  82   | degree: 72\n",
      "nodo:  87   | degree: 115\n",
      "nodo:  102   | degree: 107\n",
      "nodo:  114   | degree: 117\n",
      "nodo:  124   | degree: 118\n",
      "nodo:  144   | degree: 61\n",
      "nodo:  148   | degree: 107\n",
      "nodo:  157   | degree: 159\n",
      "nodo:  180   | degree: 66\n",
      "nodo:  196   | degree: 63\n",
      "nodo:  315   | degree: 105\n",
      "nodo:  331   | degree: 82\n",
      "nodo:  972   | degree: 111\n",
      "nodo:  1437   | degree: 60\n",
      "nodo:  3409   | degree: 78\n",
      "nodo:  3575   | degree: 62\n"
     ]
    }
   ],
   "source": [
    "print('-----------\\n RETE WS \\n-----------')\n",
    "hubs, noHubs = find_hubs(cm, 60)\n",
    "print('\\n')\n",
    "for i in hubs:\n",
    "    sorted(hubs)\n",
    "    print('nodo: ', i, '', ' | degree:', cm.degree(i))\n"
   ]
  },
  {
   "cell_type": "markdown",
   "id": "6f6af748",
   "metadata": {},
   "source": [
    "----"
   ]
  },
  {
   "cell_type": "markdown",
   "id": "860de333",
   "metadata": {},
   "source": [
    "# Centralità <a id = 'centralita'> </a>\n",
    "\n",
    "Per ciascun modello verranno calcolate le seguenti **misure di centralità** e ordinate in base all'importante (solitamente i 10 nodi con centralità maggiore)\n",
    "1. [Degree Centrality](#dc)\n",
    "2. [Closeness Centrality](#clc)\n",
    "3. [Betweenness Centrality](#bc)\n",
    "4. [Harmonic Centrality](#hc)\n",
    "5. [Eigenvector Centrality](#ec) \n",
    "6. [Page Rank](#pr)\n"
   ]
  },
  {
   "cell_type": "markdown",
   "id": "dadc97e3",
   "metadata": {},
   "source": [
    " ### Degree Centrality <a id=\"dc\"></a>\n",
    "\n",
    "Creo un dizionario con i gradi dei nodi del dizionario e stampo i 10 nodi con grado maggiore"
   ]
  },
  {
   "cell_type": "markdown",
   "id": "23cd31d7",
   "metadata": {},
   "source": [
    "#### Rete Reale"
   ]
  },
  {
   "cell_type": "code",
   "execution_count": 72,
   "id": "0d788d2f",
   "metadata": {},
   "outputs": [],
   "source": [
    "#Creo un dizionario con i gradi\n",
    "degrees_g = dict(g2.degree())"
   ]
  },
  {
   "cell_type": "code",
   "execution_count": 73,
   "id": "b9671255",
   "metadata": {},
   "outputs": [
    {
     "data": {
      "text/plain": [
       "[('deppheardtruth', 547),\n",
       " ('youtube', 498),\n",
       " ('realamberheard', 413),\n",
       " ('theemilydbaker', 370),\n",
       " ('thatumbrella', 294),\n",
       " ('robert__leonard', 278),\n",
       " ('elonmusk', 261),\n",
       " ('tmz', 247),\n",
       " ('kyduiguy', 223),\n",
       " ('courttv', 205)]"
      ]
     },
     "execution_count": 73,
     "metadata": {},
     "output_type": "execute_result"
    }
   ],
   "source": [
    "ordine_gradi_g = [(k, v) for k, v in sorted(degrees_g.items(), key=lambda item: -item[1])]\n",
    "ordine_gradi_g[0:10]"
   ]
  },
  {
   "cell_type": "markdown",
   "id": "6b852f1b",
   "metadata": {},
   "source": [
    "#### ER"
   ]
  },
  {
   "cell_type": "code",
   "execution_count": 74,
   "id": "74b87437",
   "metadata": {},
   "outputs": [],
   "source": [
    "#Creo un dizionario con i gradi\n",
    "degrees_er = dict(er.degree())"
   ]
  },
  {
   "cell_type": "code",
   "execution_count": 75,
   "id": "c57ee80f",
   "metadata": {},
   "outputs": [
    {
     "data": {
      "text/plain": [
       "[(8442, 11),\n",
       " (17122, 11),\n",
       " (1297, 10),\n",
       " (2071, 10),\n",
       " (2585, 10),\n",
       " (4312, 10),\n",
       " (9524, 10),\n",
       " (16027, 10),\n",
       " (2562, 9),\n",
       " (2893, 9)]"
      ]
     },
     "execution_count": 75,
     "metadata": {},
     "output_type": "execute_result"
    }
   ],
   "source": [
    "ordine_gradi_er = [(k, v) for k, v in sorted(degrees_er.items(), key=lambda item: -item[1])]\n",
    "ordine_gradi_er[0:10]"
   ]
  },
  {
   "cell_type": "markdown",
   "id": "6fc71009",
   "metadata": {},
   "source": [
    "#### BA"
   ]
  },
  {
   "cell_type": "code",
   "execution_count": 76,
   "id": "209b36e7",
   "metadata": {},
   "outputs": [],
   "source": [
    "#Creo un dizionario con i gradi\n",
    "degrees_ba = dict(ba.degree())"
   ]
  },
  {
   "cell_type": "code",
   "execution_count": 77,
   "id": "14f24ec9",
   "metadata": {},
   "outputs": [
    {
     "data": {
      "text/plain": [
       "[(0, 411),\n",
       " (7, 120),\n",
       " (22, 105),\n",
       " (9, 100),\n",
       " (2, 95),\n",
       " (19, 83),\n",
       " (34, 83),\n",
       " (55, 64),\n",
       " (3, 63),\n",
       " (21, 62)]"
      ]
     },
     "execution_count": 77,
     "metadata": {},
     "output_type": "execute_result"
    }
   ],
   "source": [
    "ordine_gradi_ba = [(k, v) for k, v in sorted(degrees_ba.items(), key=lambda item: -item[1])]\n",
    "ordine_gradi_ba[0:10]"
   ]
  },
  {
   "cell_type": "markdown",
   "id": "1ff2b346",
   "metadata": {},
   "source": [
    "#### WS "
   ]
  },
  {
   "cell_type": "code",
   "execution_count": 78,
   "id": "2bf6fd6c",
   "metadata": {},
   "outputs": [],
   "source": [
    "#Creo un dizionario con i gradi\n",
    "degrees_ws = dict(ws.degree())"
   ]
  },
  {
   "cell_type": "code",
   "execution_count": 79,
   "id": "d0625758",
   "metadata": {},
   "outputs": [
    {
     "data": {
      "text/plain": [
       "[(0, 2),\n",
       " (1, 2),\n",
       " (2, 2),\n",
       " (3, 2),\n",
       " (4, 2),\n",
       " (5, 2),\n",
       " (6, 2),\n",
       " (7, 2),\n",
       " (8, 2),\n",
       " (9, 2)]"
      ]
     },
     "execution_count": 79,
     "metadata": {},
     "output_type": "execute_result"
    }
   ],
   "source": [
    "ordine_gradi_ws = [(k, v) for k, v in sorted(degrees_ws.items(), key=lambda item: -item[1])]\n",
    "ordine_gradi_ws[0:10]"
   ]
  },
  {
   "cell_type": "markdown",
   "id": "db0bf2b5",
   "metadata": {},
   "source": [
    "#### CM"
   ]
  },
  {
   "cell_type": "code",
   "execution_count": 80,
   "id": "6248ab1e",
   "metadata": {},
   "outputs": [],
   "source": [
    "#Creo un dizionario con i gradi\n",
    "degrees_cm = dict(cm.degree())"
   ]
  },
  {
   "cell_type": "code",
   "execution_count": 81,
   "id": "e057fb3a",
   "metadata": {},
   "outputs": [
    {
     "data": {
      "text/plain": [
       "[(29, 548),\n",
       " (8, 498),\n",
       " (27, 413),\n",
       " (3, 370),\n",
       " (17, 294),\n",
       " (70, 278),\n",
       " (75, 261),\n",
       " (32, 247),\n",
       " (37, 223),\n",
       " (4, 205)]"
      ]
     },
     "execution_count": 81,
     "metadata": {},
     "output_type": "execute_result"
    }
   ],
   "source": [
    "ordine_gradi_cm = [(k, v) for k, v in sorted(degrees_cm.items(), key=lambda item: -item[1])]\n",
    "ordine_gradi_cm[0:10]"
   ]
  },
  {
   "cell_type": "markdown",
   "id": "b34c0a21",
   "metadata": {},
   "source": [
    "### Closeness Centrality  <a id=\"clc\"></a>"
   ]
  },
  {
   "cell_type": "markdown",
   "id": "00a609c0",
   "metadata": {},
   "source": [
    "#### Rete Reale"
   ]
  },
  {
   "cell_type": "code",
   "execution_count": 82,
   "id": "cbabe380",
   "metadata": {},
   "outputs": [],
   "source": [
    "cc_g = nx.closeness_centrality(g2)"
   ]
  },
  {
   "cell_type": "code",
   "execution_count": 83,
   "id": "036bd906",
   "metadata": {},
   "outputs": [
    {
     "data": {
      "text/plain": [
       "[('deppheardtruth', 0.2096847344352438),\n",
       " ('mensurvivetoo', 0.19311074013869345),\n",
       " ('thirdgirlll', 0.1929779364858902),\n",
       " ('theemilydbaker', 0.18855523599767265),\n",
       " ('realamberheard', 0.18843766030369866),\n",
       " ('elonmusk', 0.18627540739741633),\n",
       " ('bronk34', 0.18506881837293654),\n",
       " ('tmz', 0.18405436257637847),\n",
       " ('thatumbrella', 0.18366284908889713),\n",
       " ('ThatUmbrella', 0.1824600966983192)]"
      ]
     },
     "execution_count": 83,
     "metadata": {},
     "output_type": "execute_result"
    }
   ],
   "source": [
    "ordine_cc_g = [(k, v) for k, v in sorted(cc_g.items(), key=lambda item: -item[1])]\n",
    "ordine_cc_g[0:10]"
   ]
  },
  {
   "cell_type": "markdown",
   "id": "d31f1ab1",
   "metadata": {},
   "source": [
    "#### ER"
   ]
  },
  {
   "cell_type": "code",
   "execution_count": 84,
   "id": "39e017c4",
   "metadata": {},
   "outputs": [],
   "source": [
    "cc_er = nx.closeness_centrality(er)"
   ]
  },
  {
   "cell_type": "code",
   "execution_count": 85,
   "id": "11a917a8",
   "metadata": {},
   "outputs": [
    {
     "data": {
      "text/plain": [
       "[(5906, 0.1183404622610562),\n",
       " (12958, 0.11729739946951916),\n",
       " (5657, 0.11717256914362058),\n",
       " (5536, 0.11711607882905355),\n",
       " (16569, 0.11675333267969097),\n",
       " (3201, 0.11650003502418108),\n",
       " (14106, 0.11648052790960035),\n",
       " (9330, 0.11645393782424455),\n",
       " (15138, 0.11625313229508581),\n",
       " (6582, 0.11597562595473306)]"
      ]
     },
     "execution_count": 85,
     "metadata": {},
     "output_type": "execute_result"
    }
   ],
   "source": [
    "ordine_cc_er = [(k, v) for k, v in sorted(cc_er.items(), key=lambda item: -item[1])]\n",
    "ordine_cc_er[0:10]"
   ]
  },
  {
   "cell_type": "markdown",
   "id": "481b22b4",
   "metadata": {},
   "source": [
    "#### BA"
   ]
  },
  {
   "cell_type": "code",
   "execution_count": 86,
   "id": "3d475302",
   "metadata": {},
   "outputs": [],
   "source": [
    "cc_ba = nx.closeness_centrality(ba)"
   ]
  },
  {
   "cell_type": "code",
   "execution_count": 87,
   "id": "50cf2ded",
   "metadata": {},
   "outputs": [
    {
     "data": {
      "text/plain": [
       "[(0, 0.19822256988581424),\n",
       " (2, 0.1974545730024567),\n",
       " (7, 0.1763705085696057),\n",
       " (18, 0.17214375347920027),\n",
       " (9, 0.17162234617953326),\n",
       " (1, 0.16939789239125388),\n",
       " (22, 0.1690870504063835),\n",
       " (3, 0.1671506967284454),\n",
       " (34, 0.1668816142103193),\n",
       " (6, 0.16665905457867092)]"
      ]
     },
     "execution_count": 87,
     "metadata": {},
     "output_type": "execute_result"
    }
   ],
   "source": [
    "ordine_cc_ba = [(k, v) for k, v in sorted(cc_ba.items(), key=lambda item: -item[1])]\n",
    "ordine_cc_ba[0:10]"
   ]
  },
  {
   "cell_type": "markdown",
   "id": "77abb581",
   "metadata": {},
   "source": [
    "#### WS"
   ]
  },
  {
   "cell_type": "code",
   "execution_count": 88,
   "id": "0d754544",
   "metadata": {},
   "outputs": [],
   "source": [
    "cc_ws = nx.closeness_centrality(ws)"
   ]
  },
  {
   "cell_type": "code",
   "execution_count": 89,
   "id": "5eb1445c",
   "metadata": {},
   "outputs": [
    {
     "data": {
      "text/plain": [
       "[(0, 0.00021921411673069414),\n",
       " (1, 0.00021921411673069414),\n",
       " (2, 0.00021921411673069414),\n",
       " (3, 0.00021921411673069414),\n",
       " (4, 0.00021921411673069414),\n",
       " (5, 0.00021921411673069414),\n",
       " (6, 0.00021921411673069414),\n",
       " (7, 0.00021921411673069414),\n",
       " (8, 0.00021921411673069414),\n",
       " (9, 0.00021921411673069414)]"
      ]
     },
     "execution_count": 89,
     "metadata": {},
     "output_type": "execute_result"
    }
   ],
   "source": [
    "ordine_cc_ws = [(k, v) for k, v in sorted(cc_ws.items(), key=lambda item: -item[1])]\n",
    "ordine_cc_ws[0:10]"
   ]
  },
  {
   "cell_type": "markdown",
   "id": "54f43270",
   "metadata": {},
   "source": [
    "#### CM"
   ]
  },
  {
   "cell_type": "code",
   "execution_count": 90,
   "id": "3a01cf73",
   "metadata": {},
   "outputs": [],
   "source": [
    "cc_cm = nx.closeness_centrality(cm)"
   ]
  },
  {
   "cell_type": "code",
   "execution_count": 91,
   "id": "807843fb",
   "metadata": {},
   "outputs": [
    {
     "data": {
      "text/plain": [
       "[(8, 0.2631358197796338),\n",
       " (29, 0.26227521283874633),\n",
       " (27, 0.25530338305783806),\n",
       " (3, 0.2516043722276247),\n",
       " (17, 0.2495293633646076),\n",
       " (75, 0.24481016118834412),\n",
       " (32, 0.24457342436001916),\n",
       " (70, 0.24193392701593264),\n",
       " (37, 0.24069414847339124),\n",
       " (5, 0.24013161467619956)]"
      ]
     },
     "execution_count": 91,
     "metadata": {},
     "output_type": "execute_result"
    }
   ],
   "source": [
    "ordine_cc_cm = [(k, v) for k, v in sorted(cc_cm.items(), key=lambda item: -item[1])]\n",
    "ordine_cc_cm[0:10]"
   ]
  },
  {
   "cell_type": "code",
   "execution_count": null,
   "id": "266d2d84",
   "metadata": {},
   "outputs": [],
   "source": []
  },
  {
   "cell_type": "markdown",
   "id": "b0e8e9c3",
   "metadata": {},
   "source": [
    "### Betweenness Centrality <a id=\"bc\"></a>"
   ]
  },
  {
   "cell_type": "markdown",
   "id": "a7b40876",
   "metadata": {},
   "source": [
    "#### Rete Reale"
   ]
  },
  {
   "cell_type": "code",
   "execution_count": 92,
   "id": "e1895394",
   "metadata": {},
   "outputs": [],
   "source": [
    "bc_g = nx.closeness_centrality(g2)"
   ]
  },
  {
   "cell_type": "code",
   "execution_count": 93,
   "id": "bc429faa",
   "metadata": {},
   "outputs": [
    {
     "data": {
      "text/plain": [
       "[('deppheardtruth', 0.2096847344352438),\n",
       " ('mensurvivetoo', 0.19311074013869345),\n",
       " ('thirdgirlll', 0.1929779364858902),\n",
       " ('theemilydbaker', 0.18855523599767265),\n",
       " ('realamberheard', 0.18843766030369866),\n",
       " ('elonmusk', 0.18627540739741633),\n",
       " ('bronk34', 0.18506881837293654),\n",
       " ('tmz', 0.18405436257637847),\n",
       " ('thatumbrella', 0.18366284908889713),\n",
       " ('ThatUmbrella', 0.1824600966983192)]"
      ]
     },
     "execution_count": 93,
     "metadata": {},
     "output_type": "execute_result"
    }
   ],
   "source": [
    "ordine_bc_g = [(k, v) for k, v in sorted(bc_g.items(), key=lambda item: -item[1])]\n",
    "ordine_bc_g[0:10]"
   ]
  },
  {
   "cell_type": "markdown",
   "id": "c003766a",
   "metadata": {},
   "source": [
    "#### ER"
   ]
  },
  {
   "cell_type": "code",
   "execution_count": 94,
   "id": "c907b99f",
   "metadata": {},
   "outputs": [],
   "source": [
    "bc_er = nx.closeness_centrality(er)"
   ]
  },
  {
   "cell_type": "code",
   "execution_count": 95,
   "id": "92eb3711",
   "metadata": {},
   "outputs": [
    {
     "data": {
      "text/plain": [
       "[(5906, 0.1183404622610562),\n",
       " (12958, 0.11729739946951916),\n",
       " (5657, 0.11717256914362058),\n",
       " (5536, 0.11711607882905355),\n",
       " (16569, 0.11675333267969097),\n",
       " (3201, 0.11650003502418108),\n",
       " (14106, 0.11648052790960035),\n",
       " (9330, 0.11645393782424455),\n",
       " (15138, 0.11625313229508581),\n",
       " (6582, 0.11597562595473306)]"
      ]
     },
     "execution_count": 95,
     "metadata": {},
     "output_type": "execute_result"
    }
   ],
   "source": [
    "ordine_bc_er = [(k, v) for k, v in sorted(bc_er.items(), key=lambda item: -item[1])]\n",
    "ordine_bc_er[0:10]"
   ]
  },
  {
   "cell_type": "markdown",
   "id": "c53540f2",
   "metadata": {},
   "source": [
    "#### BA"
   ]
  },
  {
   "cell_type": "code",
   "execution_count": 96,
   "id": "b53b8feb",
   "metadata": {},
   "outputs": [],
   "source": [
    "bc_ba = nx.closeness_centrality(ba)"
   ]
  },
  {
   "cell_type": "code",
   "execution_count": 97,
   "id": "63fa1326",
   "metadata": {},
   "outputs": [
    {
     "data": {
      "text/plain": [
       "[(0, 0.19822256988581424),\n",
       " (2, 0.1974545730024567),\n",
       " (7, 0.1763705085696057),\n",
       " (18, 0.17214375347920027),\n",
       " (9, 0.17162234617953326),\n",
       " (1, 0.16939789239125388),\n",
       " (22, 0.1690870504063835),\n",
       " (3, 0.1671506967284454),\n",
       " (34, 0.1668816142103193),\n",
       " (6, 0.16665905457867092)]"
      ]
     },
     "execution_count": 97,
     "metadata": {},
     "output_type": "execute_result"
    }
   ],
   "source": [
    "ordine_bc_ba = [(k, v) for k, v in sorted(bc_ba.items(), key=lambda item: -item[1])]\n",
    "ordine_bc_ba[0:10]"
   ]
  },
  {
   "cell_type": "markdown",
   "id": "bfbeb51b",
   "metadata": {},
   "source": [
    "#### WS"
   ]
  },
  {
   "cell_type": "code",
   "execution_count": 98,
   "id": "a6bab41b",
   "metadata": {},
   "outputs": [],
   "source": [
    "\n",
    "bc_ws = nx.closeness_centrality(ws)"
   ]
  },
  {
   "cell_type": "code",
   "execution_count": 99,
   "id": "db75b1a1",
   "metadata": {},
   "outputs": [
    {
     "data": {
      "text/plain": [
       "[(0, 0.00021921411673069414),\n",
       " (1, 0.00021921411673069414),\n",
       " (2, 0.00021921411673069414),\n",
       " (3, 0.00021921411673069414),\n",
       " (4, 0.00021921411673069414),\n",
       " (5, 0.00021921411673069414),\n",
       " (6, 0.00021921411673069414),\n",
       " (7, 0.00021921411673069414),\n",
       " (8, 0.00021921411673069414),\n",
       " (9, 0.00021921411673069414)]"
      ]
     },
     "execution_count": 99,
     "metadata": {},
     "output_type": "execute_result"
    }
   ],
   "source": [
    "ordine_bc_ws = [(k, v) for k, v in sorted(bc_ws.items(), key=lambda item: -item[1])]\n",
    "ordine_bc_ws[0:10]"
   ]
  },
  {
   "cell_type": "markdown",
   "id": "c7d7a5b9",
   "metadata": {},
   "source": [
    "#### CM"
   ]
  },
  {
   "cell_type": "code",
   "execution_count": 100,
   "id": "93b1a242",
   "metadata": {},
   "outputs": [],
   "source": [
    "bc_cm = nx.closeness_centrality(cm)"
   ]
  },
  {
   "cell_type": "code",
   "execution_count": 101,
   "id": "eb9923b4",
   "metadata": {},
   "outputs": [
    {
     "data": {
      "text/plain": [
       "[(8, 0.2631358197796338),\n",
       " (29, 0.26227521283874633),\n",
       " (27, 0.25530338305783806),\n",
       " (3, 0.2516043722276247),\n",
       " (17, 0.2495293633646076),\n",
       " (75, 0.24481016118834412),\n",
       " (32, 0.24457342436001916),\n",
       " (70, 0.24193392701593264),\n",
       " (37, 0.24069414847339124),\n",
       " (5, 0.24013161467619956)]"
      ]
     },
     "execution_count": 101,
     "metadata": {},
     "output_type": "execute_result"
    }
   ],
   "source": [
    "ordine_bc_cm = [(k, v) for k, v in sorted(bc_cm.items(), key=lambda item: -item[1])]\n",
    "ordine_bc_cm[0:10]"
   ]
  },
  {
   "cell_type": "markdown",
   "id": "fd367ef3",
   "metadata": {},
   "source": [
    "### Harmonic Centrality <a id=\"hc\"></a>"
   ]
  },
  {
   "cell_type": "markdown",
   "id": "7b016a1b",
   "metadata": {},
   "source": [
    "#### Rete Reale"
   ]
  },
  {
   "cell_type": "code",
   "execution_count": 102,
   "id": "015cfbcc",
   "metadata": {},
   "outputs": [],
   "source": [
    "hc_g = nx.harmonic_centrality(g2)"
   ]
  },
  {
   "cell_type": "code",
   "execution_count": 103,
   "id": "a7f91e31",
   "metadata": {},
   "outputs": [
    {
     "data": {
      "text/plain": [
       "[('deppheardtruth', 4502.378427128435),\n",
       " ('realamberheard', 3962.16125541145),\n",
       " ('mensurvivetoo', 3961.648665223809),\n",
       " ('thirdgirlll', 3943.8915223666595),\n",
       " ('theemilydbaker', 3913.617604617783),\n",
       " ('elonmusk', 3817.274458874605),\n",
       " ('thatumbrella', 3811.5579809081687),\n",
       " ('youtube', 3802.6631396382895),\n",
       " ('tmz', 3774.1949855701478),\n",
       " ('bronk34', 3765.644300144418)]"
      ]
     },
     "execution_count": 103,
     "metadata": {},
     "output_type": "execute_result"
    }
   ],
   "source": [
    "ordine_hc_g = [(k, v) for k, v in sorted(hc_g.items(), key=lambda item: -item[1])]\n",
    "ordine_hc_g[0:10]"
   ]
  },
  {
   "cell_type": "markdown",
   "id": "f9936dcf",
   "metadata": {},
   "source": [
    "#### ER"
   ]
  },
  {
   "cell_type": "code",
   "execution_count": 104,
   "id": "199e1ba2",
   "metadata": {},
   "outputs": [],
   "source": [
    "hc_er = nx.harmonic_centrality(er)"
   ]
  },
  {
   "cell_type": "code",
   "execution_count": 105,
   "id": "d36afcbd",
   "metadata": {},
   "outputs": [
    {
     "data": {
      "text/plain": [
       "[(5906, 2270.9076839826453),\n",
       " (5536, 2248.8822261071746),\n",
       " (5657, 2247.3643412142897),\n",
       " (12958, 2245.987617937563),\n",
       " (16569, 2242.868317793256),\n",
       " (3201, 2236.075391275329),\n",
       " (14106, 2234.400333000271),\n",
       " (9330, 2233.300224775159),\n",
       " (15138, 2228.0535950160133),\n",
       " (6582, 2225.9250638249905)]"
      ]
     },
     "execution_count": 105,
     "metadata": {},
     "output_type": "execute_result"
    }
   ],
   "source": [
    "ordine_hc_er = [(k, v) for k, v in sorted(hc_er.items(), key=lambda item: -item[1])]\n",
    "ordine_hc_er[0:10]"
   ]
  },
  {
   "cell_type": "markdown",
   "id": "0220d8b3",
   "metadata": {},
   "source": [
    "#### BA"
   ]
  },
  {
   "cell_type": "code",
   "execution_count": 106,
   "id": "ad3dcf9d",
   "metadata": {},
   "outputs": [],
   "source": [
    "hc_ba = nx.harmonic_centrality(ba)"
   ]
  },
  {
   "cell_type": "code",
   "execution_count": 107,
   "id": "f3f36351",
   "metadata": {},
   "outputs": [
    {
     "data": {
      "text/plain": [
       "[(0, 4441.933041957866),\n",
       " (2, 4203.598737373604),\n",
       " (7, 3727.325352425269),\n",
       " (18, 3641.6653901653667),\n",
       " (9, 3621.8872183371845),\n",
       " (1, 3557.2869630369564),\n",
       " (22, 3542.9605228104774),\n",
       " (34, 3522.1117105117287),\n",
       " (3, 3513.6627566877723),\n",
       " (28, 3484.3824175824375)]"
      ]
     },
     "execution_count": 107,
     "metadata": {},
     "output_type": "execute_result"
    }
   ],
   "source": [
    "ordine_hc_ba = [(k, v) for k, v in sorted(hc_ba.items(), key=lambda item: -item[1])]\n",
    "ordine_hc_ba[0:10]"
   ]
  },
  {
   "cell_type": "markdown",
   "id": "3fe40281",
   "metadata": {},
   "source": [
    "#### WS"
   ]
  },
  {
   "cell_type": "code",
   "execution_count": 108,
   "id": "73b0103b",
   "metadata": {},
   "outputs": [],
   "source": [
    "hc_ws = nx.harmonic_centrality(ws)"
   ]
  },
  {
   "cell_type": "code",
   "execution_count": 109,
   "id": "c5dc5db2",
   "metadata": {},
   "outputs": [
    {
     "data": {
      "text/plain": [
       "[(5870, 19.391539280491607),\n",
       " (468, 19.391539280491603),\n",
       " (5688, 19.391539280491603),\n",
       " (5689, 19.391539280491603),\n",
       " (5692, 19.391539280491603),\n",
       " (5807, 19.391539280491603),\n",
       " (5808, 19.391539280491603),\n",
       " (5809, 19.391539280491603),\n",
       " (5810, 19.391539280491603),\n",
       " (5811, 19.391539280491603)]"
      ]
     },
     "execution_count": 109,
     "metadata": {},
     "output_type": "execute_result"
    }
   ],
   "source": [
    "ordine_hc_ws = [(k, v) for k, v in sorted(hc_ws.items(), key=lambda item: -item[1])]\n",
    "ordine_hc_ws[0:10]"
   ]
  },
  {
   "cell_type": "markdown",
   "id": "8b85d76e",
   "metadata": {},
   "source": [
    "#### CM"
   ]
  },
  {
   "cell_type": "code",
   "execution_count": 110,
   "id": "11ac1878",
   "metadata": {},
   "outputs": [],
   "source": [
    "hc_cm = nx.harmonic_centrality(cm)"
   ]
  },
  {
   "cell_type": "code",
   "execution_count": 111,
   "id": "27fc3ca3",
   "metadata": {},
   "outputs": [
    {
     "data": {
      "text/plain": [
       "[(8, 5354.917857142657),\n",
       " (29, 5354.6059523807435),\n",
       " (27, 5192.363095237921),\n",
       " (3, 5092.534523809404),\n",
       " (17, 5040.016666666551),\n",
       " (75, 4922.897619047544),\n",
       " (32, 4921.811904761843),\n",
       " (70, 4875.761904761865),\n",
       " (37, 4830.69999999999),\n",
       " (5, 4811.516666666653)]"
      ]
     },
     "execution_count": 111,
     "metadata": {},
     "output_type": "execute_result"
    }
   ],
   "source": [
    "ordine_hc_cm = [(k, v) for k, v in sorted(hc_cm.items(), key=lambda item: -item[1])]\n",
    "ordine_hc_cm[0:10]"
   ]
  },
  {
   "cell_type": "markdown",
   "id": "7c9629aa",
   "metadata": {},
   "source": [
    "## Eigenvector Centrality <a id=\"ec\"></a>"
   ]
  },
  {
   "cell_type": "markdown",
   "id": "cb4bdcfc",
   "metadata": {},
   "source": [
    "#### Rete Reale"
   ]
  },
  {
   "cell_type": "code",
   "execution_count": 112,
   "id": "b550bceb",
   "metadata": {},
   "outputs": [],
   "source": [
    "evc_g = nx.eigenvector_centrality(g2)"
   ]
  },
  {
   "cell_type": "code",
   "execution_count": 113,
   "id": "5a681ee2",
   "metadata": {},
   "outputs": [
    {
     "data": {
      "text/plain": [
       "[('deppheardtruth', 0.43188299832441074),\n",
       " ('theemilydbaker', 0.25019176173511587),\n",
       " ('youtube', 0.1985930155116337),\n",
       " ('thatumbrella', 0.1902511012432535),\n",
       " ('ianrunkle', 0.163530656362908),\n",
       " ('kyduiguy', 0.15081706239863715),\n",
       " ('realamberheard', 0.14912463655989333),\n",
       " ('legalbytesmedia', 0.12830720551278485),\n",
       " ('lumberlaw', 0.11299442742195255),\n",
       " ('tmz', 0.09943237432632798)]"
      ]
     },
     "execution_count": 113,
     "metadata": {},
     "output_type": "execute_result"
    }
   ],
   "source": [
    "ordine_evc_g = [(k, v) for k, v in sorted(evc_g.items(), key=lambda item: -item[1])]\n",
    "ordine_evc_g[0:10]"
   ]
  },
  {
   "cell_type": "markdown",
   "id": "4b1ded87",
   "metadata": {},
   "source": [
    "#### ER"
   ]
  },
  {
   "cell_type": "code",
   "execution_count": 115,
   "id": "d22f2e42",
   "metadata": {},
   "outputs": [],
   "source": [
    "evc_er = nx.eigenvector_centrality(er)"
   ]
  },
  {
   "cell_type": "code",
   "execution_count": 117,
   "id": "4530b4a4",
   "metadata": {},
   "outputs": [
    {
     "data": {
      "text/plain": [
       "[(5536, 0.08805774026842605),\n",
       " (14106, 0.07653946135937614),\n",
       " (5657, 0.07569599265937464),\n",
       " (9330, 0.0721219468564091),\n",
       " (8442, 0.07200066923273214),\n",
       " (13956, 0.06979932611719492),\n",
       " (1297, 0.0662401122330572),\n",
       " (3201, 0.0627708041792322),\n",
       " (5906, 0.06235490370528696),\n",
       " (7426, 0.060863801122863485)]"
      ]
     },
     "execution_count": 117,
     "metadata": {},
     "output_type": "execute_result"
    }
   ],
   "source": [
    "ordine_evc_er = [(k, v) for k, v in sorted(evc_er.items(), key=lambda item: -item[1])]\n",
    "ordine_evc_er[0:10]"
   ]
  },
  {
   "cell_type": "markdown",
   "id": "46b726f8",
   "metadata": {},
   "source": [
    "#### BA"
   ]
  },
  {
   "cell_type": "code",
   "execution_count": 118,
   "id": "28389680",
   "metadata": {},
   "outputs": [],
   "source": [
    "evc_ba = nx.eigenvector_centrality(ba)"
   ]
  },
  {
   "cell_type": "code",
   "execution_count": 119,
   "id": "2fbf57ce",
   "metadata": {},
   "outputs": [
    {
     "data": {
      "text/plain": [
       "[(0, 0.7038442485984276),\n",
       " (2, 0.0450464676304717),\n",
       " (34, 0.04320427667330686),\n",
       " (3, 0.04074532726618537),\n",
       " (1, 0.039737706329584656),\n",
       " (18, 0.03932320799603539),\n",
       " (28, 0.037838759247354276),\n",
       " (5, 0.037240182260640776),\n",
       " (81, 0.037233525766609384),\n",
       " (1029, 0.03675412196650656)]"
      ]
     },
     "execution_count": 119,
     "metadata": {},
     "output_type": "execute_result"
    }
   ],
   "source": [
    "ordine_evc_ba = [(k, v) for k, v in sorted(evc_ba.items(), key=lambda item: -item[1])]\n",
    "ordine_evc_ba[0:10]"
   ]
  },
  {
   "cell_type": "markdown",
   "id": "9c05ed4d",
   "metadata": {},
   "source": [
    "#### WS"
   ]
  },
  {
   "cell_type": "code",
   "execution_count": 120,
   "id": "9c2372da",
   "metadata": {},
   "outputs": [],
   "source": [
    "evc_ws = nx.eigenvector_centrality(ws)"
   ]
  },
  {
   "cell_type": "code",
   "execution_count": 121,
   "id": "14e25f02",
   "metadata": {},
   "outputs": [
    {
     "data": {
      "text/plain": [
       "[(0, 0.007403143449827078),\n",
       " (1, 0.007403143449827078),\n",
       " (2, 0.007403143449827078),\n",
       " (3, 0.007403143449827078),\n",
       " (4, 0.007403143449827078),\n",
       " (5, 0.007403143449827078),\n",
       " (6, 0.007403143449827078),\n",
       " (7, 0.007403143449827078),\n",
       " (8, 0.007403143449827078),\n",
       " (9, 0.007403143449827078)]"
      ]
     },
     "execution_count": 121,
     "metadata": {},
     "output_type": "execute_result"
    }
   ],
   "source": [
    "ordine_evc_ws = [(k, v) for k, v in sorted(evc_ws.items(), key=lambda item: -item[1])]\n",
    "ordine_evc_ws[0:10]"
   ]
  },
  {
   "cell_type": "markdown",
   "id": "8662b896",
   "metadata": {},
   "source": [
    "#### CM"
   ]
  },
  {
   "cell_type": "code",
   "execution_count": 122,
   "id": "da7ff814",
   "metadata": {},
   "outputs": [],
   "source": [
    "evc_cm = nx.eigenvector_centrality(ws)"
   ]
  },
  {
   "cell_type": "code",
   "execution_count": 123,
   "id": "44c7a206",
   "metadata": {},
   "outputs": [
    {
     "data": {
      "text/plain": [
       "[(0, 0.007403143449827078),\n",
       " (1, 0.007403143449827078),\n",
       " (2, 0.007403143449827078),\n",
       " (3, 0.007403143449827078),\n",
       " (4, 0.007403143449827078),\n",
       " (5, 0.007403143449827078),\n",
       " (6, 0.007403143449827078),\n",
       " (7, 0.007403143449827078),\n",
       " (8, 0.007403143449827078),\n",
       " (9, 0.007403143449827078)]"
      ]
     },
     "execution_count": 123,
     "metadata": {},
     "output_type": "execute_result"
    }
   ],
   "source": [
    "ordine_evc_cm = [(k, v) for k, v in sorted(evc_cm.items(), key=lambda item: -item[1])]\n",
    "ordine_evc_cm[0:10]"
   ]
  },
  {
   "cell_type": "markdown",
   "id": "93e7e800",
   "metadata": {},
   "source": [
    "### Page Rank <a id=\"pr\"></a>"
   ]
  },
  {
   "cell_type": "markdown",
   "id": "af67c9f9",
   "metadata": {},
   "source": [
    "#### Rete Reale"
   ]
  },
  {
   "cell_type": "code",
   "execution_count": 124,
   "id": "c0326cfe",
   "metadata": {},
   "outputs": [],
   "source": [
    "pr_g = nx.pagerank(g2)"
   ]
  },
  {
   "cell_type": "code",
   "execution_count": 125,
   "id": "d8622eb5",
   "metadata": {},
   "outputs": [
    {
     "data": {
      "text/plain": [
       "[('deppheardtruth', 0.00920941282864928),\n",
       " ('youtube', 0.008809342869392682),\n",
       " ('realamberheard', 0.0070897680159504655),\n",
       " ('theemilydbaker', 0.00543920501947312),\n",
       " ('robert__leonard', 0.00505938789912642),\n",
       " ('elonmusk', 0.0044986794957387905),\n",
       " ('thatumbrella', 0.004034424022985996),\n",
       " ('tmz', 0.003791122035379082),\n",
       " ('courttv', 0.0030870369957633607),\n",
       " ('reenie62', 0.0030488794211405534)]"
      ]
     },
     "execution_count": 125,
     "metadata": {},
     "output_type": "execute_result"
    }
   ],
   "source": [
    "ordine_pr_g = [(k, v) for k, v in sorted(pr_g.items(), key=lambda item: -item[1])]\n",
    "ordine_pr_g[0:10]"
   ]
  },
  {
   "cell_type": "markdown",
   "id": "55933e27",
   "metadata": {},
   "source": [
    "#### ER"
   ]
  },
  {
   "cell_type": "code",
   "execution_count": 126,
   "id": "c14a723c",
   "metadata": {},
   "outputs": [],
   "source": [
    "pr_er = nx.pagerank(er)"
   ]
  },
  {
   "cell_type": "code",
   "execution_count": 127,
   "id": "c43dbf76",
   "metadata": {},
   "outputs": [
    {
     "data": {
      "text/plain": [
       "[(17122, 0.00018850773381793966),\n",
       " (2071, 0.00018542650335876928),\n",
       " (9524, 0.0001833069596852005),\n",
       " (4312, 0.00018008317521487558),\n",
       " (8442, 0.00017414900204836226),\n",
       " (16027, 0.00016652107747362069),\n",
       " (1297, 0.00016256506807251262),\n",
       " (9487, 0.00016239040272894467),\n",
       " (13780, 0.0001601532533773386),\n",
       " (2585, 0.00015950354068803525)]"
      ]
     },
     "execution_count": 127,
     "metadata": {},
     "output_type": "execute_result"
    }
   ],
   "source": [
    "ordine_pr_er = [(k, v) for k, v in sorted(pr_er.items(), key=lambda item: -item[1])]\n",
    "ordine_pr_er[0:10]"
   ]
  },
  {
   "cell_type": "markdown",
   "id": "76a86c6e",
   "metadata": {},
   "source": [
    "#### BA"
   ]
  },
  {
   "cell_type": "code",
   "execution_count": 128,
   "id": "d6c0d769",
   "metadata": {},
   "outputs": [],
   "source": [
    "pr_ba = nx.pagerank(ba)"
   ]
  },
  {
   "cell_type": "code",
   "execution_count": 129,
   "id": "cfc61142",
   "metadata": {},
   "outputs": [
    {
     "data": {
      "text/plain": [
       "[(0, 0.009196608491912138),\n",
       " (7, 0.0026688122699454354),\n",
       " (22, 0.0023348774445059663),\n",
       " (9, 0.00220819840986664),\n",
       " (2, 0.0020909912001655967),\n",
       " (34, 0.0018985308617607474),\n",
       " (19, 0.0018564804071499233),\n",
       " (55, 0.0014637321117803013),\n",
       " (88, 0.001427758769958686),\n",
       " (3, 0.0014218583032527636)]"
      ]
     },
     "execution_count": 129,
     "metadata": {},
     "output_type": "execute_result"
    }
   ],
   "source": [
    "ordine_pr_ba = [(k, v) for k, v in sorted(pr_ba.items(), key=lambda item: -item[1])]\n",
    "ordine_pr_ba[0:10]"
   ]
  },
  {
   "cell_type": "markdown",
   "id": "790d6215",
   "metadata": {},
   "source": [
    "#### WS"
   ]
  },
  {
   "cell_type": "code",
   "execution_count": 130,
   "id": "20654845",
   "metadata": {},
   "outputs": [],
   "source": [
    "pr_ws = nx.pagerank(ws)"
   ]
  },
  {
   "cell_type": "code",
   "execution_count": 131,
   "id": "fcf62524",
   "metadata": {},
   "outputs": [
    {
     "data": {
      "text/plain": [
       "[(0, 5.4806532938726295e-05),\n",
       " (1, 5.4806532938726295e-05),\n",
       " (2, 5.4806532938726295e-05),\n",
       " (3, 5.4806532938726295e-05),\n",
       " (4, 5.4806532938726295e-05),\n",
       " (5, 5.4806532938726295e-05),\n",
       " (6, 5.4806532938726295e-05),\n",
       " (7, 5.4806532938726295e-05),\n",
       " (8, 5.4806532938726295e-05),\n",
       " (9, 5.4806532938726295e-05)]"
      ]
     },
     "execution_count": 131,
     "metadata": {},
     "output_type": "execute_result"
    }
   ],
   "source": [
    "ordine_pr_ws = [(k, v) for k, v in sorted(pr_ws.items(), key=lambda item: -item[1])]\n",
    "ordine_pr_ws[0:10]"
   ]
  },
  {
   "cell_type": "markdown",
   "id": "709f42dd",
   "metadata": {},
   "source": [
    "#### CM"
   ]
  },
  {
   "cell_type": "code",
   "execution_count": 132,
   "id": "8a57b278",
   "metadata": {},
   "outputs": [],
   "source": [
    "pr_cm = nx.pagerank(cm)"
   ]
  },
  {
   "cell_type": "code",
   "execution_count": 133,
   "id": "19496f92",
   "metadata": {},
   "outputs": [
    {
     "data": {
      "text/plain": [
       "[(29, 0.008658776328142086),\n",
       " (8, 0.007829374433293146),\n",
       " (27, 0.006677278331703454),\n",
       " (3, 0.0058794337518046375),\n",
       " (17, 0.004629502547663793),\n",
       " (70, 0.0043983006559877936),\n",
       " (75, 0.00397554646196181),\n",
       " (32, 0.003939687293587879),\n",
       " (37, 0.003493496809596339),\n",
       " (4, 0.0031814172092676156)]"
      ]
     },
     "execution_count": 133,
     "metadata": {},
     "output_type": "execute_result"
    }
   ],
   "source": [
    "ordine_pr_cm = [(k, v) for k, v in sorted(pr_cm.items(), key=lambda item: -item[1])]\n",
    "ordine_pr_cm[0:10]"
   ]
  },
  {
   "cell_type": "markdown",
   "id": "4021c070",
   "metadata": {},
   "source": [
    "******"
   ]
  },
  {
   "cell_type": "markdown",
   "id": "38e43c72",
   "metadata": {},
   "source": [
    "## Path Analysis <a id = 'path'> </a>"
   ]
  },
  {
   "cell_type": "markdown",
   "id": "b8b28a64",
   "metadata": {},
   "source": [
    "Per ridurre i tempi di esecuzione, la **Path Analysis** verrà eseguita sulla *biggest component* di ciascuna rete "
   ]
  },
  {
   "cell_type": "code",
   "execution_count": 36,
   "id": "d47a4e6d",
   "metadata": {},
   "outputs": [
    {
     "name": "stdout",
     "output_type": "stream",
     "text": [
      "Average shortest path (g): 5.35636363266043\n"
     ]
    }
   ],
   "source": [
    "print(\"Average shortest path (g):\", nx.average_shortest_path_length(g2.subgraph(comps_g[0])))"
   ]
  },
  {
   "cell_type": "code",
   "execution_count": 37,
   "id": "806cb7e0",
   "metadata": {},
   "outputs": [
    {
     "name": "stdout",
     "output_type": "stream",
     "text": [
      "Average shortest path (er): 9.568076471343856\n"
     ]
    }
   ],
   "source": [
    "print(\"Average shortest path (er):\", nx.average_shortest_path_length(er.subgraph(comps_er[0])))"
   ]
  },
  {
   "cell_type": "code",
   "execution_count": 38,
   "id": "799f9aa0",
   "metadata": {},
   "outputs": [
    {
     "name": "stdout",
     "output_type": "stream",
     "text": [
      "Average shortest path (ba): 9.394325185288587\n"
     ]
    }
   ],
   "source": [
    "print(\"Average shortest path (ba):\", nx.average_shortest_path_length(ba.subgraph(comps_ba[0])))"
   ]
  },
  {
   "cell_type": "code",
   "execution_count": 34,
   "id": "a8b935a6",
   "metadata": {},
   "outputs": [
    {
     "name": "stdout",
     "output_type": "stream",
     "text": [
      "Average shortest path (ws): 4561.750013702384\n"
     ]
    }
   ],
   "source": [
    "print(\"Average shortest path (ws):\", nx.average_shortest_path_length(ws.subgraph(comps_ws[0])))"
   ]
  },
  {
   "cell_type": "code",
   "execution_count": 35,
   "id": "3fd535d9",
   "metadata": {},
   "outputs": [
    {
     "name": "stdout",
     "output_type": "stream",
     "text": [
      "Average shortest path (cm): 4.833390543862963\n"
     ]
    }
   ],
   "source": [
    "print(\"Average shortest path (cm):\", nx.average_shortest_path_length(cm.subgraph(comps_cm[0])))"
   ]
  }
 ],
 "metadata": {
  "kernelspec": {
   "display_name": "Python 3 (ipykernel)",
   "language": "python",
   "name": "python3"
  },
  "language_info": {
   "codemirror_mode": {
    "name": "ipython",
    "version": 3
   },
   "file_extension": ".py",
   "mimetype": "text/x-python",
   "name": "python",
   "nbconvert_exporter": "python",
   "pygments_lexer": "ipython3",
   "version": "3.9.7"
  }
 },
 "nbformat": 4,
 "nbformat_minor": 5
}
